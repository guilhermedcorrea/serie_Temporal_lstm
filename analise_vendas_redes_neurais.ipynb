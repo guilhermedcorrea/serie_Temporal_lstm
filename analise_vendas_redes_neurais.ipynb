{
 "cells": [
  {
   "cell_type": "code",
   "execution_count": 3,
   "metadata": {},
   "outputs": [],
   "source": [
    "import plotly.graph_objects as go\n",
    "import pandas as pd\n",
    "import matplotlib.pyplot as plt\n",
    "import findspark\n",
    "import os\n",
    "from datetime import datetime\n",
    "from functools import reduce\n",
    "import tensorflow as tf\n",
    "from sklearn.preprocessing import MinMaxScaler\n",
    "from tensorflow.keras.models import Sequential\n",
    "from sklearn.preprocessing import MinMaxScaler\n",
    "from keras.models import Sequential\n",
    "from keras.layers import LSTM, Dense\n",
    "import numpy as np\n",
    "findspark.init()"
   ]
  },
  {
   "cell_type": "code",
   "execution_count": 4,
   "metadata": {},
   "outputs": [],
   "source": [
    "os.environ[\"SPARK_HOME\"]=r\"D:\\spark\\spark\"\n",
    "os.environ[\"HADOOP_HOME\"]=r\"D:\\spark\\spark\\hadoop\\bin\"\n",
    "os.environ[\"JAVA_HOME\"]=r\"D:\\spark\\jdk-21\""
   ]
  },
  {
   "cell_type": "code",
   "execution_count": 5,
   "metadata": {},
   "outputs": [],
   "source": [
    "jarsql = r\"C:\\leads\\venv\\Lib\\site-packages\\pyspark\\mssql-jdbc-9.4.0.jre11.jar\""
   ]
  },
  {
   "cell_type": "code",
   "execution_count": 6,
   "metadata": {},
   "outputs": [],
   "source": [
    "\n",
    "from pyspark.sql import SparkSession\n",
    "from os.path import abspath\n",
    "from pyspark import SparkContext, SparkConf\n",
    "from pyspark.sql.functions import col, regexp_replace, when, from_unixtime, lit, concat,to_date,unix_timestamp\n",
    "import pyspark.sql.functions as F\n",
    "\n",
    "jarsql = r\"C:\\leads\\venv\\Lib\\site-packages\\pyspark\\mssql-jdbc-9.4.0.jre11.jar\"\n",
    "warehouse_location = abspath('spark-warehouse')\n",
    "\n",
    "conf = SparkConf()\n",
    "conf.set(\"spark.master\",\"local[*]\")\n",
    "conf.set(\"spark.executor.memory\", \"4g\")\n",
    "conf.set(\"spark.driver.memory\", \"4g\")\n",
    "conf.set('spark.driver.extraClassPath', jarsql)\n",
    "conf.set('spark.executor.extraClassPath', jarsql)\n",
    "spark = SparkSession.builder\\\n",
    "    .config(conf=conf)\\\n",
    "    .config(\"spark.sql.warehouse.dir\", warehouse_location)\\\n",
    "    .appName(\"Testing PySpark Example\")\\\n",
    "    .getOrCreate()\n",
    "\n",
    "\n",
    "sc = spark.sparkContext"
   ]
  },
  {
   "cell_type": "code",
   "execution_count": 7,
   "metadata": {},
   "outputs": [],
   "source": [
    "file_path = r\"D:\\analise_produtos\\excelfiles\\super_loja.csv\"\n",
    "df = spark.read.option(\"sep\", \";\").option(\"header\", \"true\").option(\"inferSchema\", \"true\").csv(file_path)"
   ]
  },
  {
   "cell_type": "code",
   "execution_count": 8,
   "metadata": {},
   "outputs": [
    {
     "name": "stdout",
     "output_type": "stream",
     "text": [
      "+----------+--------------+--------------+-------------+-------------+-------------+-----------------+--------------------+----------------+----------------+-----------+-------+---------------+--------------------+-------------+--------------------+------+----------+--------+------+\n",
      "|ID da fila|  ID do pedido|Data do pedido|Data de envio|Modo de envio|ID do cliente|  Nome do cliente|            Segmento|          Cidade|          Estado|Pa�s/Regi�o| Regi�o|  ID do produto|           Categoria|Sub-categoria|     Nome do produto|Vendas|Quantidade|Desconto| Lucro|\n",
      "+----------+--------------+--------------+-------------+-------------+-------------+-----------------+--------------------+----------------+----------------+-----------+-------+---------------+--------------------+-------------+--------------------+------+----------+--------+------+\n",
      "|         1|MX-2021-143658|    02/10/2021|   06/10/2021|Classe padr�o|     SR-20575|      Sofia Rocha|              Varejo|Cidade do M�xico|Distrito Federal|     M�xico|  Norte|MAT-ET-10001014|Material de escri...|    Etiquetas|HON Etiquetas par...| 130,8|         3|       0|  45,6|\n",
      "|         2|MX-2019-155047|    16/10/2019|   21/10/2019|Classe padr�o|     LC-16570|  Larissa Cardoso|              Varejo|   Dos Quebradas|       Risaralda|   Col�mbia|    Sul|M�V-M�-10004592|              M�veis|       M�veis|Tenex Rel�gio de ...|2521,6|         8|       0| 907,2|\n",
      "|         3|MX-2019-155047|    16/10/2019|   21/10/2019|Classe padr�o|     LC-16570|  Larissa Cardoso|              Varejo|   Dos Quebradas|       Risaralda|   Col�mbia|    Sul|M�V-ES-10000849|              M�veis|     Estantes|Ikea Gaveteiro, B...|1932,8|         2|       0| 540,8|\n",
      "|         4|MX-2019-155047|    16/10/2019|   21/10/2019|Classe padr�o|     LC-16570|  Larissa Cardoso|              Varejo|   Dos Quebradas|       Risaralda|   Col�mbia|    Sul|MAT-FI-10003284|Material de escri...|    Fich�rios|Cardinal Pasta ar...| 354,4|         4|       0|  49,6|\n",
      "|         5|MX-2019-155047|    16/10/2019|   21/10/2019|Classe padr�o|     LC-16570|  Larissa Cardoso|              Varejo|   Dos Quebradas|       Risaralda|   Col�mbia|    Sul|MAT-AR-10002762|Material de escri...|         Arte|Sanford Tela, Tam...|   716|         2|       0| 114,4|\n",
      "|         6|MX-2019-155047|    16/10/2019|   21/10/2019|Classe padr�o|     LC-16570|  Larissa Cardoso|              Varejo|   Dos Quebradas|       Risaralda|   Col�mbia|    Sul|MAT-EN-10000610|Material de escri...|    Envelopes|GlobeWeis Com lac...| 561,2|         2|       0| 213,2|\n",
      "|         7|MX-2020-134096|    28/09/2020|   02/10/2020|Classe padr�o|     DG-13000|  Diogo Goncalves|              Varejo|       S�o Paulo|       S�o Paulo|     Brasil|    Sul|MAT-EN-10000610|Material de escri...|    Envelopes|GlobeWeis Com lac...| 561,2|         2|       0| 213,2|\n",
      "|         8|MX-2020-134096|    28/09/2020|   02/10/2020|Classe padr�o|     DG-13000|  Diogo Goncalves|              Varejo|       S�o Paulo|       S�o Paulo|     Brasil|    Sul|TEC-M�-10001040|          Tecnologia|     M�quinas|Konica Impressora...|3446,4|         3|       0|1654,2|\n",
      "|         9|MX-2020-134096|    28/09/2020|   02/10/2020|Classe padr�o|     DG-13000|  Diogo Goncalves|              Varejo|       S�o Paulo|       S�o Paulo|     Brasil|    Sul|MAT-MA-10001660|Material de escri...|    Materiais|Elite Estilete, I...| 973,6|         4|       0| 194,4|\n",
      "|        10|MX-2020-134096|    28/09/2020|   02/10/2020|Classe padr�o|     DG-13000|  Diogo Goncalves|              Varejo|       S�o Paulo|       S�o Paulo|     Brasil|    Sul|TEC-AC-10004490|          Tecnologia|   Acess�rios|Enermax Roteador,...|3415,2|         2|       0| 136,4|\n",
      "|        11|MX-2020-134096|    28/09/2020|   02/10/2020|Classe padr�o|     DG-13000|  Diogo Goncalves|              Varejo|       S�o Paulo|       S�o Paulo|     Brasil|    Sul|MAT-FI-10001314|Material de escri...|    Fich�rios|Wilson Jones Refo...| 120,6|         3|       0|  34,8|\n",
      "|        12|MX-2020-156335|    06/03/2020|   13/03/2020|Classe padr�o|     VC-21250| Vin�cius Cardoso|              Varejo|         Managua|         Managua|  Nicar�gua|Central|MAT-CO-10002112|Material de escri...|    Colchetes|Accos Grampos, Em...| 207,6|         3|       0|  95,4|\n",
      "|        13|MX-2020-156335|    06/03/2020|   13/03/2020|Classe padr�o|     VC-21250| Vin�cius Cardoso|              Varejo|         Managua|         Managua|  Nicar�gua|Central|M�V-CA-10004486|              M�veis|     Cadeiras|HON Cadeira dobr�...|2106,4|         4|       0| 504,8|\n",
      "|        14|MX-2021-121923|    24/09/2021|   01/10/2021|Classe padr�o|     MC-18910|    Melissa Cunha|Pequenas e Medias...|         Managua|         Managua|  Nicar�gua|Central|MAT-EN-10001401|Material de escri...|    Envelopes|Kraft Com lacre, ...|   801|         3|       0| 376,2|\n",
      "|        15|MX-2021-135706|    18/10/2021|   23/10/2021|Classe padr�o|     JA-15625|    J�lia Almeida|              Varejo|        Bras�lia|Distrito Federal|     Brasil|    Sul|MAT-AR-10002737|Material de escri...|         Arte|Stanley Tela, Emb...|1326,4|         4|       0| 357,6|\n",
      "|        16|MX-2021-135706|    18/10/2021|   23/10/2021|Classe padr�o|     JA-15625|    J�lia Almeida|              Varejo|        Bras�lia|Distrito Federal|     Brasil|    Sul|MAT-CO-10002418|Material de escri...|    Colchetes|Advantus Prendedo...| 129,4|         1|       0|  10,2|\n",
      "|        17|US-2020-126655|    27/06/2020|   02/07/2020|Classe padr�o|     GO-14785|Giovanna Oliveira|      Grande Empresa|   San Miguelito|          Panam�|     Panam�|Central|MAT-EN-10001346|Material de escri...|    Envelopes|Jiffy Fita dupla ...| 188,4|         2|     0,4|   -66|\n",
      "|        18|US-2020-126655|    27/06/2020|   02/07/2020|Classe padr�o|     GO-14785|Giovanna Oliveira|      Grande Empresa|   San Miguelito|          Panam�|     Panam�|Central|M�V-M�-10002468|              M�veis|       M�veis|Deflect-O Moldura...|3082,8|         7|     0,4| -1491|\n",
      "|        19|US-2020-126655|    27/06/2020|   02/07/2020|Classe padr�o|     GO-14785|Giovanna Oliveira|      Grande Empresa|   San Miguelito|          Panam�|     Panam�|Central|MAT-EN-10004794|Material de escri...|    Envelopes|GlobeWeis Malote,...|401,76|         2|     0,4|-60,64|\n",
      "|        20|US-2020-126655|    27/06/2020|   02/07/2020|Classe padr�o|     GO-14785|Giovanna Oliveira|      Grande Empresa|   San Miguelito|          Panam�|     Panam�|Central|MAT-EN-10003820|Material de escri...|    Envelopes|Jiffy Envelope co...| 87,84|         3|     0,4|-48,36|\n",
      "+----------+--------------+--------------+-------------+-------------+-------------+-----------------+--------------------+----------------+----------------+-----------+-------+---------------+--------------------+-------------+--------------------+------+----------+--------+------+\n",
      "only showing top 20 rows\n",
      "\n"
     ]
    }
   ],
   "source": [
    "df.show()"
   ]
  },
  {
   "cell_type": "code",
   "execution_count": 9,
   "metadata": {},
   "outputs": [
    {
     "name": "stdout",
     "output_type": "stream",
     "text": [
      "+----------+--------------+--------------+-------------+-------------+-------------+-----------------+--------------------+----------------+----------------+-----------+-------+---------------+--------------------+-------------+--------------------+------+----------+--------+------+\n",
      "|id_da_fila|  id_do_pedido|data_do_pedido|data_de_envio|modo_de_envio|id_do_cliente|  nome_do_cliente|            segmento|          cidade|          estado|pais_regiao| regiao|  id_do_produto|           categoria|sub-categoria|     nome_do_produto|vendas|quantidade|desconto| lucro|\n",
      "+----------+--------------+--------------+-------------+-------------+-------------+-----------------+--------------------+----------------+----------------+-----------+-------+---------------+--------------------+-------------+--------------------+------+----------+--------+------+\n",
      "|         1|MX-2021-143658|    02/10/2021|   06/10/2021|Classe padr�o|     SR-20575|      Sofia Rocha|              Varejo|Cidade do M�xico|Distrito Federal|     M�xico|  Norte|MAT-ET-10001014|Material de escri...|    Etiquetas|HON Etiquetas par...| 130,8|         3|       0|  45,6|\n",
      "|         2|MX-2019-155047|    16/10/2019|   21/10/2019|Classe padr�o|     LC-16570|  Larissa Cardoso|              Varejo|   Dos Quebradas|       Risaralda|   Col�mbia|    Sul|M�V-M�-10004592|              M�veis|       M�veis|Tenex Rel�gio de ...|2521,6|         8|       0| 907,2|\n",
      "|         3|MX-2019-155047|    16/10/2019|   21/10/2019|Classe padr�o|     LC-16570|  Larissa Cardoso|              Varejo|   Dos Quebradas|       Risaralda|   Col�mbia|    Sul|M�V-ES-10000849|              M�veis|     Estantes|Ikea Gaveteiro, B...|1932,8|         2|       0| 540,8|\n",
      "|         4|MX-2019-155047|    16/10/2019|   21/10/2019|Classe padr�o|     LC-16570|  Larissa Cardoso|              Varejo|   Dos Quebradas|       Risaralda|   Col�mbia|    Sul|MAT-FI-10003284|Material de escri...|    Fich�rios|Cardinal Pasta ar...| 354,4|         4|       0|  49,6|\n",
      "|         5|MX-2019-155047|    16/10/2019|   21/10/2019|Classe padr�o|     LC-16570|  Larissa Cardoso|              Varejo|   Dos Quebradas|       Risaralda|   Col�mbia|    Sul|MAT-AR-10002762|Material de escri...|         Arte|Sanford Tela, Tam...|   716|         2|       0| 114,4|\n",
      "|         6|MX-2019-155047|    16/10/2019|   21/10/2019|Classe padr�o|     LC-16570|  Larissa Cardoso|              Varejo|   Dos Quebradas|       Risaralda|   Col�mbia|    Sul|MAT-EN-10000610|Material de escri...|    Envelopes|GlobeWeis Com lac...| 561,2|         2|       0| 213,2|\n",
      "|         7|MX-2020-134096|    28/09/2020|   02/10/2020|Classe padr�o|     DG-13000|  Diogo Goncalves|              Varejo|       S�o Paulo|       S�o Paulo|     Brasil|    Sul|MAT-EN-10000610|Material de escri...|    Envelopes|GlobeWeis Com lac...| 561,2|         2|       0| 213,2|\n",
      "|         8|MX-2020-134096|    28/09/2020|   02/10/2020|Classe padr�o|     DG-13000|  Diogo Goncalves|              Varejo|       S�o Paulo|       S�o Paulo|     Brasil|    Sul|TEC-M�-10001040|          Tecnologia|     M�quinas|Konica Impressora...|3446,4|         3|       0|1654,2|\n",
      "|         9|MX-2020-134096|    28/09/2020|   02/10/2020|Classe padr�o|     DG-13000|  Diogo Goncalves|              Varejo|       S�o Paulo|       S�o Paulo|     Brasil|    Sul|MAT-MA-10001660|Material de escri...|    Materiais|Elite Estilete, I...| 973,6|         4|       0| 194,4|\n",
      "|        10|MX-2020-134096|    28/09/2020|   02/10/2020|Classe padr�o|     DG-13000|  Diogo Goncalves|              Varejo|       S�o Paulo|       S�o Paulo|     Brasil|    Sul|TEC-AC-10004490|          Tecnologia|   Acess�rios|Enermax Roteador,...|3415,2|         2|       0| 136,4|\n",
      "|        11|MX-2020-134096|    28/09/2020|   02/10/2020|Classe padr�o|     DG-13000|  Diogo Goncalves|              Varejo|       S�o Paulo|       S�o Paulo|     Brasil|    Sul|MAT-FI-10001314|Material de escri...|    Fich�rios|Wilson Jones Refo...| 120,6|         3|       0|  34,8|\n",
      "|        12|MX-2020-156335|    06/03/2020|   13/03/2020|Classe padr�o|     VC-21250| Vin�cius Cardoso|              Varejo|         Managua|         Managua|  Nicar�gua|Central|MAT-CO-10002112|Material de escri...|    Colchetes|Accos Grampos, Em...| 207,6|         3|       0|  95,4|\n",
      "|        13|MX-2020-156335|    06/03/2020|   13/03/2020|Classe padr�o|     VC-21250| Vin�cius Cardoso|              Varejo|         Managua|         Managua|  Nicar�gua|Central|M�V-CA-10004486|              M�veis|     Cadeiras|HON Cadeira dobr�...|2106,4|         4|       0| 504,8|\n",
      "|        14|MX-2021-121923|    24/09/2021|   01/10/2021|Classe padr�o|     MC-18910|    Melissa Cunha|Pequenas e Medias...|         Managua|         Managua|  Nicar�gua|Central|MAT-EN-10001401|Material de escri...|    Envelopes|Kraft Com lacre, ...|   801|         3|       0| 376,2|\n",
      "|        15|MX-2021-135706|    18/10/2021|   23/10/2021|Classe padr�o|     JA-15625|    J�lia Almeida|              Varejo|        Bras�lia|Distrito Federal|     Brasil|    Sul|MAT-AR-10002737|Material de escri...|         Arte|Stanley Tela, Emb...|1326,4|         4|       0| 357,6|\n",
      "|        16|MX-2021-135706|    18/10/2021|   23/10/2021|Classe padr�o|     JA-15625|    J�lia Almeida|              Varejo|        Bras�lia|Distrito Federal|     Brasil|    Sul|MAT-CO-10002418|Material de escri...|    Colchetes|Advantus Prendedo...| 129,4|         1|       0|  10,2|\n",
      "|        17|US-2020-126655|    27/06/2020|   02/07/2020|Classe padr�o|     GO-14785|Giovanna Oliveira|      Grande Empresa|   San Miguelito|          Panam�|     Panam�|Central|MAT-EN-10001346|Material de escri...|    Envelopes|Jiffy Fita dupla ...| 188,4|         2|     0,4|   -66|\n",
      "|        18|US-2020-126655|    27/06/2020|   02/07/2020|Classe padr�o|     GO-14785|Giovanna Oliveira|      Grande Empresa|   San Miguelito|          Panam�|     Panam�|Central|M�V-M�-10002468|              M�veis|       M�veis|Deflect-O Moldura...|3082,8|         7|     0,4| -1491|\n",
      "|        19|US-2020-126655|    27/06/2020|   02/07/2020|Classe padr�o|     GO-14785|Giovanna Oliveira|      Grande Empresa|   San Miguelito|          Panam�|     Panam�|Central|MAT-EN-10004794|Material de escri...|    Envelopes|GlobeWeis Malote,...|401,76|         2|     0,4|-60,64|\n",
      "|        20|US-2020-126655|    27/06/2020|   02/07/2020|Classe padr�o|     GO-14785|Giovanna Oliveira|      Grande Empresa|   San Miguelito|          Panam�|     Panam�|Central|MAT-EN-10003820|Material de escri...|    Envelopes|Jiffy Envelope co...| 87,84|         3|     0,4|-48,36|\n",
      "+----------+--------------+--------------+-------------+-------------+-------------+-----------------+--------------------+----------------+----------------+-----------+-------+---------------+--------------------+-------------+--------------------+------+----------+--------+------+\n",
      "only showing top 20 rows\n",
      "\n"
     ]
    }
   ],
   "source": [
    "lista_columns_lower = [i for i in df.columns]\n",
    "for lista in lista_columns_lower:\n",
    "    \n",
    "    df = df.withColumnRenamed(\n",
    "        lista, lista.replace(\" \",\"_\").replace(\n",
    "            \"/\",\"_\").replace(\"�o\",\"ao\").replace(\"a�\",\"ai\").lower().strip())\n",
    "df.show()\n",
    "    "
   ]
  },
  {
   "cell_type": "code",
   "execution_count": 10,
   "metadata": {},
   "outputs": [],
   "source": [
    "lista_floats = [\"vendas\",\"desconto\",\"lucro\"]\n",
    "for col_name in lista_floats:\n",
    "    df = df.withColumn(col_name, regexp_replace(col(col_name), \",\", \".\").cast(\"float\"))"
   ]
  },
  {
   "cell_type": "code",
   "execution_count": 11,
   "metadata": {},
   "outputs": [],
   "source": [
    "date_columns = [\"data_do_pedido\", \"data_de_envio\"]\n",
    "for col_name in date_columns:\n",
    "    df = df.withColumn(col_name, when(col(col_name) != \"NULL\", col(col_name)))\n"
   ]
  },
  {
   "cell_type": "code",
   "execution_count": 12,
   "metadata": {},
   "outputs": [],
   "source": [
    "date_format = \"dd/MM/yyyy\"\n",
    "for col_name in date_columns:\n",
    "    df = df.withColumn(col_name, to_date(col(col_name), date_format))"
   ]
  },
  {
   "cell_type": "code",
   "execution_count": 13,
   "metadata": {},
   "outputs": [],
   "source": [
    "tab_vendas = df.select(\"data_do_pedido\",\"vendas\",\"quantidade\",\"desconto\",\"lucro\",\n",
    "          \"data_de_envio\",\"segmento\",\"regiao\",\"categoria\",\"sub-categoria\",\"id_do_produto\",\"nome_do_produto\",\"id_do_pedido\",\"id_do_cliente\",\"estado\",\"cidade\")"
   ]
  },
  {
   "cell_type": "code",
   "execution_count": 14,
   "metadata": {},
   "outputs": [
    {
     "name": "stdout",
     "output_type": "stream",
     "text": [
      "+----------+--------------+--------------+-------------+-------------+-------------+-----------------+--------------------+----------------+----------------+-----------+-------+---------------+--------------------+-------------+--------------------+------+----------+--------+-------+\n",
      "|id_da_fila|  id_do_pedido|data_do_pedido|data_de_envio|modo_de_envio|id_do_cliente|  nome_do_cliente|            segmento|          cidade|          estado|pais_regiao| regiao|  id_do_produto|           categoria|sub-categoria|     nome_do_produto|vendas|quantidade|desconto|  lucro|\n",
      "+----------+--------------+--------------+-------------+-------------+-------------+-----------------+--------------------+----------------+----------------+-----------+-------+---------------+--------------------+-------------+--------------------+------+----------+--------+-------+\n",
      "|         1|MX-2021-143658|    2021-10-02|   2021-10-06|Classe padr�o|     SR-20575|      Sofia Rocha|              Varejo|Cidade do M�xico|Distrito Federal|     M�xico|  Norte|MAT-ET-10001014|Material de escri...|    Etiquetas|HON Etiquetas par...| 130.8|         3|     0.0|   45.6|\n",
      "|         2|MX-2019-155047|    2019-10-16|   2019-10-21|Classe padr�o|     LC-16570|  Larissa Cardoso|              Varejo|   Dos Quebradas|       Risaralda|   Col�mbia|    Sul|M�V-M�-10004592|              M�veis|       M�veis|Tenex Rel�gio de ...|2521.6|         8|     0.0|  907.2|\n",
      "|         3|MX-2019-155047|    2019-10-16|   2019-10-21|Classe padr�o|     LC-16570|  Larissa Cardoso|              Varejo|   Dos Quebradas|       Risaralda|   Col�mbia|    Sul|M�V-ES-10000849|              M�veis|     Estantes|Ikea Gaveteiro, B...|1932.8|         2|     0.0|  540.8|\n",
      "|         4|MX-2019-155047|    2019-10-16|   2019-10-21|Classe padr�o|     LC-16570|  Larissa Cardoso|              Varejo|   Dos Quebradas|       Risaralda|   Col�mbia|    Sul|MAT-FI-10003284|Material de escri...|    Fich�rios|Cardinal Pasta ar...| 354.4|         4|     0.0|   49.6|\n",
      "|         5|MX-2019-155047|    2019-10-16|   2019-10-21|Classe padr�o|     LC-16570|  Larissa Cardoso|              Varejo|   Dos Quebradas|       Risaralda|   Col�mbia|    Sul|MAT-AR-10002762|Material de escri...|         Arte|Sanford Tela, Tam...| 716.0|         2|     0.0|  114.4|\n",
      "|         6|MX-2019-155047|    2019-10-16|   2019-10-21|Classe padr�o|     LC-16570|  Larissa Cardoso|              Varejo|   Dos Quebradas|       Risaralda|   Col�mbia|    Sul|MAT-EN-10000610|Material de escri...|    Envelopes|GlobeWeis Com lac...| 561.2|         2|     0.0|  213.2|\n",
      "|         7|MX-2020-134096|    2020-09-28|   2020-10-02|Classe padr�o|     DG-13000|  Diogo Goncalves|              Varejo|       S�o Paulo|       S�o Paulo|     Brasil|    Sul|MAT-EN-10000610|Material de escri...|    Envelopes|GlobeWeis Com lac...| 561.2|         2|     0.0|  213.2|\n",
      "|         8|MX-2020-134096|    2020-09-28|   2020-10-02|Classe padr�o|     DG-13000|  Diogo Goncalves|              Varejo|       S�o Paulo|       S�o Paulo|     Brasil|    Sul|TEC-M�-10001040|          Tecnologia|     M�quinas|Konica Impressora...|3446.4|         3|     0.0| 1654.2|\n",
      "|         9|MX-2020-134096|    2020-09-28|   2020-10-02|Classe padr�o|     DG-13000|  Diogo Goncalves|              Varejo|       S�o Paulo|       S�o Paulo|     Brasil|    Sul|MAT-MA-10001660|Material de escri...|    Materiais|Elite Estilete, I...| 973.6|         4|     0.0|  194.4|\n",
      "|        10|MX-2020-134096|    2020-09-28|   2020-10-02|Classe padr�o|     DG-13000|  Diogo Goncalves|              Varejo|       S�o Paulo|       S�o Paulo|     Brasil|    Sul|TEC-AC-10004490|          Tecnologia|   Acess�rios|Enermax Roteador,...|3415.2|         2|     0.0|  136.4|\n",
      "|        11|MX-2020-134096|    2020-09-28|   2020-10-02|Classe padr�o|     DG-13000|  Diogo Goncalves|              Varejo|       S�o Paulo|       S�o Paulo|     Brasil|    Sul|MAT-FI-10001314|Material de escri...|    Fich�rios|Wilson Jones Refo...| 120.6|         3|     0.0|   34.8|\n",
      "|        12|MX-2020-156335|    2020-03-06|   2020-03-13|Classe padr�o|     VC-21250| Vin�cius Cardoso|              Varejo|         Managua|         Managua|  Nicar�gua|Central|MAT-CO-10002112|Material de escri...|    Colchetes|Accos Grampos, Em...| 207.6|         3|     0.0|   95.4|\n",
      "|        13|MX-2020-156335|    2020-03-06|   2020-03-13|Classe padr�o|     VC-21250| Vin�cius Cardoso|              Varejo|         Managua|         Managua|  Nicar�gua|Central|M�V-CA-10004486|              M�veis|     Cadeiras|HON Cadeira dobr�...|2106.4|         4|     0.0|  504.8|\n",
      "|        14|MX-2021-121923|    2021-09-24|   2021-10-01|Classe padr�o|     MC-18910|    Melissa Cunha|Pequenas e Medias...|         Managua|         Managua|  Nicar�gua|Central|MAT-EN-10001401|Material de escri...|    Envelopes|Kraft Com lacre, ...| 801.0|         3|     0.0|  376.2|\n",
      "|        15|MX-2021-135706|    2021-10-18|   2021-10-23|Classe padr�o|     JA-15625|    J�lia Almeida|              Varejo|        Bras�lia|Distrito Federal|     Brasil|    Sul|MAT-AR-10002737|Material de escri...|         Arte|Stanley Tela, Emb...|1326.4|         4|     0.0|  357.6|\n",
      "|        16|MX-2021-135706|    2021-10-18|   2021-10-23|Classe padr�o|     JA-15625|    J�lia Almeida|              Varejo|        Bras�lia|Distrito Federal|     Brasil|    Sul|MAT-CO-10002418|Material de escri...|    Colchetes|Advantus Prendedo...| 129.4|         1|     0.0|   10.2|\n",
      "|        17|US-2020-126655|    2020-06-27|   2020-07-02|Classe padr�o|     GO-14785|Giovanna Oliveira|      Grande Empresa|   San Miguelito|          Panam�|     Panam�|Central|MAT-EN-10001346|Material de escri...|    Envelopes|Jiffy Fita dupla ...| 188.4|         2|     0.4|  -66.0|\n",
      "|        18|US-2020-126655|    2020-06-27|   2020-07-02|Classe padr�o|     GO-14785|Giovanna Oliveira|      Grande Empresa|   San Miguelito|          Panam�|     Panam�|Central|M�V-M�-10002468|              M�veis|       M�veis|Deflect-O Moldura...|3082.8|         7|     0.4|-1491.0|\n",
      "|        19|US-2020-126655|    2020-06-27|   2020-07-02|Classe padr�o|     GO-14785|Giovanna Oliveira|      Grande Empresa|   San Miguelito|          Panam�|     Panam�|Central|MAT-EN-10004794|Material de escri...|    Envelopes|GlobeWeis Malote,...|401.76|         2|     0.4| -60.64|\n",
      "|        20|US-2020-126655|    2020-06-27|   2020-07-02|Classe padr�o|     GO-14785|Giovanna Oliveira|      Grande Empresa|   San Miguelito|          Panam�|     Panam�|Central|MAT-EN-10003820|Material de escri...|    Envelopes|Jiffy Envelope co...| 87.84|         3|     0.4| -48.36|\n",
      "+----------+--------------+--------------+-------------+-------------+-------------+-----------------+--------------------+----------------+----------------+-----------+-------+---------------+--------------------+-------------+--------------------+------+----------+--------+-------+\n",
      "only showing top 20 rows\n",
      "\n"
     ]
    }
   ],
   "source": [
    "df = df.withColumn(\"quantidade\", df[\"quantidade\"].cast(\"int\"))\n",
    "df.show()"
   ]
  },
  {
   "cell_type": "code",
   "execution_count": 15,
   "metadata": {},
   "outputs": [],
   "source": [
    "tab_sales = tab_vendas.select(\"data_do_pedido\",\"vendas\")"
   ]
  },
  {
   "cell_type": "code",
   "execution_count": 16,
   "metadata": {},
   "outputs": [
    {
     "name": "stdout",
     "output_type": "stream",
     "text": [
      "+--------------+------+\n",
      "|data_do_pedido|vendas|\n",
      "+--------------+------+\n",
      "|    2021-10-02| 130.8|\n",
      "|    2019-10-16|2521.6|\n",
      "|    2019-10-16|1932.8|\n",
      "|    2019-10-16| 354.4|\n",
      "|    2019-10-16| 716.0|\n",
      "|    2019-10-16| 561.2|\n",
      "|    2020-09-28| 561.2|\n",
      "|    2020-09-28|3446.4|\n",
      "|    2020-09-28| 973.6|\n",
      "|    2020-09-28|3415.2|\n",
      "|    2020-09-28| 120.6|\n",
      "|    2020-03-06| 207.6|\n",
      "|    2020-03-06|2106.4|\n",
      "|    2021-09-24| 801.0|\n",
      "|    2021-10-18|1326.4|\n",
      "|    2021-10-18| 129.4|\n",
      "|    2020-06-27| 188.4|\n",
      "|    2020-06-27|3082.8|\n",
      "|    2020-06-27|401.76|\n",
      "|    2020-06-27| 87.84|\n",
      "+--------------+------+\n",
      "only showing top 20 rows\n",
      "\n"
     ]
    }
   ],
   "source": [
    "tab_sales.show()"
   ]
  },
  {
   "cell_type": "code",
   "execution_count": 17,
   "metadata": {},
   "outputs": [],
   "source": [
    "start_date = datetime(2021, 1, 1)\n",
    "filtered_df = tab_vendas.filter(col(\"data_do_pedido\") >= start_date)"
   ]
  },
  {
   "cell_type": "code",
   "execution_count": 18,
   "metadata": {},
   "outputs": [],
   "source": [
    "vendas_df = filtered_df.toPandas()\n",
    "vendas_df.dropna(inplace=True)"
   ]
  },
  {
   "cell_type": "code",
   "execution_count": 19,
   "metadata": {},
   "outputs": [
    {
     "data": {
      "text/plain": [
       "Index(['data_do_pedido', 'vendas', 'quantidade', 'desconto', 'lucro',\n",
       "       'data_de_envio', 'segmento', 'regiao', 'categoria', 'sub-categoria',\n",
       "       'id_do_produto', 'nome_do_produto', 'id_do_pedido', 'id_do_cliente',\n",
       "       'estado', 'cidade'],\n",
       "      dtype='object')"
      ]
     },
     "execution_count": 19,
     "metadata": {},
     "output_type": "execute_result"
    }
   ],
   "source": [
    "vendas_df.columns"
   ]
  },
  {
   "cell_type": "code",
   "execution_count": 20,
   "metadata": {},
   "outputs": [
    {
     "data": {
      "text/html": [
       "<div>\n",
       "<style scoped>\n",
       "    .dataframe tbody tr th:only-of-type {\n",
       "        vertical-align: middle;\n",
       "    }\n",
       "\n",
       "    .dataframe tbody tr th {\n",
       "        vertical-align: top;\n",
       "    }\n",
       "\n",
       "    .dataframe thead th {\n",
       "        text-align: right;\n",
       "    }\n",
       "</style>\n",
       "<table border=\"1\" class=\"dataframe\">\n",
       "  <thead>\n",
       "    <tr style=\"text-align: right;\">\n",
       "      <th></th>\n",
       "      <th>data_do_pedido</th>\n",
       "      <th>vendas</th>\n",
       "    </tr>\n",
       "  </thead>\n",
       "  <tbody>\n",
       "    <tr>\n",
       "      <th>0</th>\n",
       "      <td>2021-01-01</td>\n",
       "      <td>14151.386719</td>\n",
       "    </tr>\n",
       "    <tr>\n",
       "      <th>1</th>\n",
       "      <td>2021-01-03</td>\n",
       "      <td>5778.340332</td>\n",
       "    </tr>\n",
       "    <tr>\n",
       "      <th>2</th>\n",
       "      <td>2021-01-04</td>\n",
       "      <td>1297.599976</td>\n",
       "    </tr>\n",
       "    <tr>\n",
       "      <th>3</th>\n",
       "      <td>2021-01-06</td>\n",
       "      <td>1507.199951</td>\n",
       "    </tr>\n",
       "    <tr>\n",
       "      <th>4</th>\n",
       "      <td>2021-01-07</td>\n",
       "      <td>3857.199951</td>\n",
       "    </tr>\n",
       "    <tr>\n",
       "      <th>...</th>\n",
       "      <td>...</td>\n",
       "      <td>...</td>\n",
       "    </tr>\n",
       "    <tr>\n",
       "      <th>312</th>\n",
       "      <td>2021-12-27</td>\n",
       "      <td>33777.378906</td>\n",
       "    </tr>\n",
       "    <tr>\n",
       "      <th>313</th>\n",
       "      <td>2021-12-28</td>\n",
       "      <td>2719.680176</td>\n",
       "    </tr>\n",
       "    <tr>\n",
       "      <th>314</th>\n",
       "      <td>2021-12-29</td>\n",
       "      <td>31637.273438</td>\n",
       "    </tr>\n",
       "    <tr>\n",
       "      <th>315</th>\n",
       "      <td>2021-12-30</td>\n",
       "      <td>28163.041016</td>\n",
       "    </tr>\n",
       "    <tr>\n",
       "      <th>316</th>\n",
       "      <td>2021-12-31</td>\n",
       "      <td>25747.380859</td>\n",
       "    </tr>\n",
       "  </tbody>\n",
       "</table>\n",
       "<p>317 rows × 2 columns</p>\n",
       "</div>"
      ],
      "text/plain": [
       "    data_do_pedido        vendas\n",
       "0       2021-01-01  14151.386719\n",
       "1       2021-01-03   5778.340332\n",
       "2       2021-01-04   1297.599976\n",
       "3       2021-01-06   1507.199951\n",
       "4       2021-01-07   3857.199951\n",
       "..             ...           ...\n",
       "312     2021-12-27  33777.378906\n",
       "313     2021-12-28   2719.680176\n",
       "314     2021-12-29  31637.273438\n",
       "315     2021-12-30  28163.041016\n",
       "316     2021-12-31  25747.380859\n",
       "\n",
       "[317 rows x 2 columns]"
      ]
     },
     "execution_count": 20,
     "metadata": {},
     "output_type": "execute_result"
    }
   ],
   "source": [
    "vendas = vendas_df.groupby(['data_do_pedido'])['vendas'].sum().reset_index()\n",
    "vendas"
   ]
  },
  {
   "cell_type": "code",
   "execution_count": 21,
   "metadata": {},
   "outputs": [],
   "source": [
    "vendas['aumento'] = vendas['vendas'].diff()"
   ]
  },
  {
   "cell_type": "code",
   "execution_count": 22,
   "metadata": {},
   "outputs": [],
   "source": [
    "vendas['aceleracao'] = vendas['aumento'].diff()"
   ]
  },
  {
   "cell_type": "code",
   "execution_count": 23,
   "metadata": {},
   "outputs": [
    {
     "data": {
      "text/html": [
       "<div>\n",
       "<style scoped>\n",
       "    .dataframe tbody tr th:only-of-type {\n",
       "        vertical-align: middle;\n",
       "    }\n",
       "\n",
       "    .dataframe tbody tr th {\n",
       "        vertical-align: top;\n",
       "    }\n",
       "\n",
       "    .dataframe thead th {\n",
       "        text-align: right;\n",
       "    }\n",
       "</style>\n",
       "<table border=\"1\" class=\"dataframe\">\n",
       "  <thead>\n",
       "    <tr style=\"text-align: right;\">\n",
       "      <th></th>\n",
       "      <th>data_do_pedido</th>\n",
       "      <th>vendas</th>\n",
       "      <th>aumento</th>\n",
       "      <th>aceleracao</th>\n",
       "    </tr>\n",
       "  </thead>\n",
       "  <tbody>\n",
       "    <tr>\n",
       "      <th>0</th>\n",
       "      <td>2021-01-01</td>\n",
       "      <td>14151.386719</td>\n",
       "      <td>NaN</td>\n",
       "      <td>NaN</td>\n",
       "    </tr>\n",
       "    <tr>\n",
       "      <th>1</th>\n",
       "      <td>2021-01-03</td>\n",
       "      <td>5778.340332</td>\n",
       "      <td>-8373.046875</td>\n",
       "      <td>NaN</td>\n",
       "    </tr>\n",
       "    <tr>\n",
       "      <th>2</th>\n",
       "      <td>2021-01-04</td>\n",
       "      <td>1297.599976</td>\n",
       "      <td>-4480.740234</td>\n",
       "      <td>3892.306641</td>\n",
       "    </tr>\n",
       "    <tr>\n",
       "      <th>3</th>\n",
       "      <td>2021-01-06</td>\n",
       "      <td>1507.199951</td>\n",
       "      <td>209.599976</td>\n",
       "      <td>4690.340332</td>\n",
       "    </tr>\n",
       "    <tr>\n",
       "      <th>4</th>\n",
       "      <td>2021-01-07</td>\n",
       "      <td>3857.199951</td>\n",
       "      <td>2350.000000</td>\n",
       "      <td>2140.399902</td>\n",
       "    </tr>\n",
       "    <tr>\n",
       "      <th>...</th>\n",
       "      <td>...</td>\n",
       "      <td>...</td>\n",
       "      <td>...</td>\n",
       "      <td>...</td>\n",
       "    </tr>\n",
       "    <tr>\n",
       "      <th>312</th>\n",
       "      <td>2021-12-27</td>\n",
       "      <td>33777.378906</td>\n",
       "      <td>-32708.816406</td>\n",
       "      <td>-60274.031250</td>\n",
       "    </tr>\n",
       "    <tr>\n",
       "      <th>313</th>\n",
       "      <td>2021-12-28</td>\n",
       "      <td>2719.680176</td>\n",
       "      <td>-31057.699219</td>\n",
       "      <td>1651.117188</td>\n",
       "    </tr>\n",
       "    <tr>\n",
       "      <th>314</th>\n",
       "      <td>2021-12-29</td>\n",
       "      <td>31637.273438</td>\n",
       "      <td>28917.593750</td>\n",
       "      <td>59975.292969</td>\n",
       "    </tr>\n",
       "    <tr>\n",
       "      <th>315</th>\n",
       "      <td>2021-12-30</td>\n",
       "      <td>28163.041016</td>\n",
       "      <td>-3474.232422</td>\n",
       "      <td>-32391.826172</td>\n",
       "    </tr>\n",
       "    <tr>\n",
       "      <th>316</th>\n",
       "      <td>2021-12-31</td>\n",
       "      <td>25747.380859</td>\n",
       "      <td>-2415.660156</td>\n",
       "      <td>1058.572266</td>\n",
       "    </tr>\n",
       "  </tbody>\n",
       "</table>\n",
       "<p>317 rows × 4 columns</p>\n",
       "</div>"
      ],
      "text/plain": [
       "    data_do_pedido        vendas       aumento    aceleracao\n",
       "0       2021-01-01  14151.386719           NaN           NaN\n",
       "1       2021-01-03   5778.340332  -8373.046875           NaN\n",
       "2       2021-01-04   1297.599976  -4480.740234   3892.306641\n",
       "3       2021-01-06   1507.199951    209.599976   4690.340332\n",
       "4       2021-01-07   3857.199951   2350.000000   2140.399902\n",
       "..             ...           ...           ...           ...\n",
       "312     2021-12-27  33777.378906 -32708.816406 -60274.031250\n",
       "313     2021-12-28   2719.680176 -31057.699219   1651.117188\n",
       "314     2021-12-29  31637.273438  28917.593750  59975.292969\n",
       "315     2021-12-30  28163.041016  -3474.232422 -32391.826172\n",
       "316     2021-12-31  25747.380859  -2415.660156   1058.572266\n",
       "\n",
       "[317 rows x 4 columns]"
      ]
     },
     "execution_count": 23,
     "metadata": {},
     "output_type": "execute_result"
    }
   ],
   "source": [
    "vendas"
   ]
  },
  {
   "cell_type": "code",
   "execution_count": 30,
   "metadata": {},
   "outputs": [
    {
     "data": {
      "application/vnd.plotly.v1+json": {
       "config": {
        "plotlyServerURL": "https://plot.ly"
       },
       "data": [
        {
         "mode": "lines",
         "name": "vendas",
         "type": "scatter",
         "x": [
          "2021-01-01",
          "2021-01-03",
          "2021-01-04",
          "2021-01-06",
          "2021-01-07",
          "2021-01-09",
          "2021-01-10",
          "2021-01-14",
          "2021-01-15",
          "2021-01-16",
          "2021-01-17",
          "2021-01-18",
          "2021-01-19",
          "2021-01-21",
          "2021-01-22",
          "2021-01-23",
          "2021-01-24",
          "2021-01-25",
          "2021-01-28",
          "2021-01-29",
          "2021-01-31",
          "2021-02-01",
          "2021-02-02",
          "2021-02-04",
          "2021-02-05",
          "2021-02-07",
          "2021-02-08",
          "2021-02-11",
          "2021-02-13",
          "2021-02-14",
          "2021-02-15",
          "2021-02-16",
          "2021-02-18",
          "2021-02-19",
          "2021-02-20",
          "2021-02-21",
          "2021-02-22",
          "2021-02-23",
          "2021-02-25",
          "2021-02-27",
          "2021-02-28",
          "2021-03-01",
          "2021-03-02",
          "2021-03-03",
          "2021-03-04",
          "2021-03-05",
          "2021-03-06",
          "2021-03-07",
          "2021-03-08",
          "2021-03-10",
          "2021-03-11",
          "2021-03-12",
          "2021-03-13",
          "2021-03-14",
          "2021-03-15",
          "2021-03-16",
          "2021-03-17",
          "2021-03-18",
          "2021-03-19",
          "2021-03-20",
          "2021-03-21",
          "2021-03-22",
          "2021-03-24",
          "2021-03-25",
          "2021-03-26",
          "2021-03-27",
          "2021-03-28",
          "2021-03-31",
          "2021-04-01",
          "2021-04-02",
          "2021-04-03",
          "2021-04-04",
          "2021-04-05",
          "2021-04-07",
          "2021-04-08",
          "2021-04-09",
          "2021-04-10",
          "2021-04-11",
          "2021-04-12",
          "2021-04-14",
          "2021-04-15",
          "2021-04-16",
          "2021-04-17",
          "2021-04-18",
          "2021-04-19",
          "2021-04-21",
          "2021-04-22",
          "2021-04-23",
          "2021-04-24",
          "2021-04-25",
          "2021-04-26",
          "2021-04-27",
          "2021-04-28",
          "2021-04-29",
          "2021-04-30",
          "2021-05-01",
          "2021-05-02",
          "2021-05-05",
          "2021-05-06",
          "2021-05-07",
          "2021-05-08",
          "2021-05-09",
          "2021-05-10",
          "2021-05-11",
          "2021-05-12",
          "2021-05-13",
          "2021-05-14",
          "2021-05-15",
          "2021-05-16",
          "2021-05-17",
          "2021-05-18",
          "2021-05-19",
          "2021-05-20",
          "2021-05-21",
          "2021-05-22",
          "2021-05-23",
          "2021-05-26",
          "2021-05-27",
          "2021-05-28",
          "2021-05-29",
          "2021-05-30",
          "2021-05-31",
          "2021-06-02",
          "2021-06-03",
          "2021-06-04",
          "2021-06-05",
          "2021-06-06",
          "2021-06-07",
          "2021-06-08",
          "2021-06-09",
          "2021-06-10",
          "2021-06-11",
          "2021-06-12",
          "2021-06-13",
          "2021-06-14",
          "2021-06-15",
          "2021-06-16",
          "2021-06-17",
          "2021-06-18",
          "2021-06-19",
          "2021-06-20",
          "2021-06-21",
          "2021-06-23",
          "2021-06-24",
          "2021-06-25",
          "2021-06-26",
          "2021-06-27",
          "2021-06-28",
          "2021-06-30",
          "2021-07-01",
          "2021-07-02",
          "2021-07-03",
          "2021-07-04",
          "2021-07-05",
          "2021-07-06",
          "2021-07-07",
          "2021-07-08",
          "2021-07-09",
          "2021-07-10",
          "2021-07-11",
          "2021-07-12",
          "2021-07-14",
          "2021-07-15",
          "2021-07-16",
          "2021-07-17",
          "2021-07-18",
          "2021-07-19",
          "2021-07-21",
          "2021-07-22",
          "2021-07-23",
          "2021-07-24",
          "2021-07-25",
          "2021-07-26",
          "2021-07-27",
          "2021-07-28",
          "2021-07-29",
          "2021-07-30",
          "2021-07-31",
          "2021-08-01",
          "2021-08-02",
          "2021-08-03",
          "2021-08-04",
          "2021-08-05",
          "2021-08-06",
          "2021-08-07",
          "2021-08-08",
          "2021-08-09",
          "2021-08-11",
          "2021-08-12",
          "2021-08-13",
          "2021-08-15",
          "2021-08-16",
          "2021-08-18",
          "2021-08-19",
          "2021-08-20",
          "2021-08-21",
          "2021-08-22",
          "2021-08-23",
          "2021-08-26",
          "2021-08-27",
          "2021-08-28",
          "2021-08-29",
          "2021-08-30",
          "2021-09-01",
          "2021-09-02",
          "2021-09-03",
          "2021-09-04",
          "2021-09-05",
          "2021-09-06",
          "2021-09-08",
          "2021-09-09",
          "2021-09-10",
          "2021-09-11",
          "2021-09-12",
          "2021-09-13",
          "2021-09-15",
          "2021-09-16",
          "2021-09-17",
          "2021-09-18",
          "2021-09-19",
          "2021-09-20",
          "2021-09-22",
          "2021-09-23",
          "2021-09-24",
          "2021-09-25",
          "2021-09-26",
          "2021-09-27",
          "2021-09-28",
          "2021-09-29",
          "2021-09-30",
          "2021-10-01",
          "2021-10-02",
          "2021-10-03",
          "2021-10-04",
          "2021-10-05",
          "2021-10-06",
          "2021-10-07",
          "2021-10-08",
          "2021-10-09",
          "2021-10-10",
          "2021-10-12",
          "2021-10-13",
          "2021-10-14",
          "2021-10-15",
          "2021-10-16",
          "2021-10-17",
          "2021-10-18",
          "2021-10-19",
          "2021-10-20",
          "2021-10-21",
          "2021-10-22",
          "2021-10-23",
          "2021-10-24",
          "2021-10-25",
          "2021-10-27",
          "2021-10-28",
          "2021-10-29",
          "2021-10-30",
          "2021-10-31",
          "2021-11-01",
          "2021-11-03",
          "2021-11-04",
          "2021-11-05",
          "2021-11-06",
          "2021-11-07",
          "2021-11-08",
          "2021-11-10",
          "2021-11-11",
          "2021-11-12",
          "2021-11-13",
          "2021-11-14",
          "2021-11-15",
          "2021-11-16",
          "2021-11-17",
          "2021-11-18",
          "2021-11-19",
          "2021-11-20",
          "2021-11-21",
          "2021-11-22",
          "2021-11-23",
          "2021-11-24",
          "2021-11-25",
          "2021-11-26",
          "2021-11-27",
          "2021-11-28",
          "2021-11-29",
          "2021-11-30",
          "2021-12-01",
          "2021-12-02",
          "2021-12-03",
          "2021-12-04",
          "2021-12-05",
          "2021-12-06",
          "2021-12-07",
          "2021-12-08",
          "2021-12-09",
          "2021-12-10",
          "2021-12-11",
          "2021-12-12",
          "2021-12-13",
          "2021-12-14",
          "2021-12-15",
          "2021-12-16",
          "2021-12-17",
          "2021-12-18",
          "2021-12-19",
          "2021-12-20",
          "2021-12-22",
          "2021-12-23",
          "2021-12-24",
          "2021-12-25",
          "2021-12-26",
          "2021-12-27",
          "2021-12-28",
          "2021-12-29",
          "2021-12-30",
          "2021-12-31"
         ],
         "y": [
          0.13879965245723724,
          0.05647197738289833,
          0.012415255419909954,
          0.014476140029728413,
          0.037582430988550186,
          0.3577785789966583,
          0.14825467765331268,
          0.07107377052307129,
          0.053762733936309814,
          0.13871216773986816,
          0.3042597472667694,
          0.0471651516854763,
          0.08376158028841019,
          0.006885478273034096,
          0.16782528162002563,
          0.1624358594417572,
          0.028041010722517967,
          0.18626582622528076,
          0.03713997080922127,
          0.019530028104782104,
          0.022111639380455017,
          0.06326954811811447,
          0.014216563664376736,
          0.040789783000946045,
          0.34144216775894165,
          0.20942991971969604,
          0.06026396155357361,
          0.036246005445718765,
          0.06799857318401337,
          0.019752241671085358,
          0.01894676499068737,
          0.03212541341781616,
          0.02852870151400566,
          0.03250966966152191,
          0.0983336865901947,
          0.021149631589651108,
          0.023783553391695023,
          0.06148318946361542,
          0.18762439489364624,
          0.24218618869781494,
          0.07471024245023727,
          0.11344704031944275,
          0.007379068061709404,
          0.11412304639816284,
          0.13996513187885284,
          0.12219491600990295,
          0.09266114234924316,
          0.14164294302463531,
          0.09547755867242813,
          0.03654215857386589,
          0.3998025357723236,
          0.22175118327140808,
          0.04899398982524872,
          0.17109903693199158,
          0.003507829736918211,
          0.006423745304346085,
          0.14820098876953125,
          0.30217626690864563,
          0.3570576608181,
          0.12750661373138428,
          0.0646500214934349,
          0.03805793076753616,
          0.4159667193889618,
          0.15238724648952484,
          0.05002551153302193,
          0.13266929984092712,
          0.2937239706516266,
          0.009021482430398464,
          0.09741376340389252,
          0.1485724300146103,
          0.07696341723203659,
          0.028387896716594696,
          0.04061397910118103,
          0.09036781638860703,
          0.1949431598186493,
          0.3898293077945709,
          0.29371827840805054,
          0.40312182903289795,
          0,
          0.08043231070041656,
          0.2854832708835602,
          0.3081686198711395,
          0.2777474522590637,
          0.06976132839918137,
          0.0708574578166008,
          0.22970201075077057,
          0.1275235265493393,
          0.21717464923858643,
          0.03980102762579918,
          0.037478603422641754,
          0.03686938434839249,
          0.07495912164449692,
          0.19270291924476624,
          0.1246001347899437,
          0.04952128976583481,
          0.010577765293419361,
          0.06834328919649124,
          0.043177105486392975,
          0.04427716135978699,
          0.25810375809669495,
          0.2982695698738098,
          0.11053145676851273,
          0.21190857887268066,
          0.021864255890250206,
          0.11046041548252106,
          0.21141017973423004,
          0.028178663924336433,
          0.3101253807544708,
          0.3377246856689453,
          0.007355862762778997,
          0.003186505287885666,
          0.6858503818511963,
          0.12587617337703705,
          0.2715471088886261,
          0.10255929082632065,
          0.08722063899040222,
          0.09747550636529922,
          0.27663886547088623,
          0.14697448909282684,
          0.100323386490345,
          0.1109442189335823,
          0.06779837608337402,
          0.15986642241477966,
          0.6835463047027588,
          0.19886070489883423,
          0.25829294323921204,
          0.5437424778938293,
          0.040630318224430084,
          0.00412255572155118,
          0.4251820147037506,
          0.2234460860490799,
          0.38552120327949524,
          0.16085921227931976,
          0.13593675196170807,
          0.18011775612831116,
          0.06590189039707184,
          0.46678298711776733,
          0.12539030611515045,
          0.224294051527977,
          0.38387808203697205,
          0.11681714653968811,
          0.05037800967693329,
          0.31519830226898193,
          0.6658744215965271,
          0.2602196931838989,
          0.4707585573196411,
          0.32571572065353394,
          0.12390950322151184,
          0.26779305934906006,
          0.0018099601147696376,
          0.40712618827819824,
          0.15978561341762543,
          0.36484813690185547,
          0.27478906512260437,
          0.00343703618273139,
          0.11141303181648254,
          0.11389140039682388,
          0.1272323578596115,
          0.1750001609325409,
          0.21713384985923767,
          0.012293333187699318,
          0.2092749923467636,
          0.02979118935763836,
          0.1467091590166092,
          0.001330922357738018,
          0.005339814815670252,
          0.035498976707458496,
          0.5038172006607056,
          0.08281242847442627,
          0.028698604553937912,
          0.18853791058063507,
          0.0760660469532013,
          0.057677630335092545,
          0.08857162296772003,
          0.18952211737632751,
          0.19863389432430267,
          0.35669371485710144,
          0.29824891686439514,
          0.32434821128845215,
          0.024061614647507668,
          0.010296950116753578,
          0.04310237988829613,
          0.08052236586809158,
          0.10709364712238312,
          0.38908153772354126,
          0.19897544384002686,
          0.05388859286904335,
          0.015459387563169003,
          0.1273934543132782,
          0.18137474358081818,
          0.531260073184967,
          0.31609484553337097,
          0.16885921359062195,
          0.07864077389240265,
          0.3312622606754303,
          0.2361694872379303,
          0.11957927793264389,
          0.015002373605966568,
          0.20582398772239685,
          0.07803644984960556,
          0.25244811177253723,
          0.9837020635604858,
          0.025862136855721474,
          0.2761789858341217,
          0.11726081371307373,
          0.2983739972114563,
          0.15692494809627533,
          0.609975278377533,
          0.026021026074886322,
          0.5149776935577393,
          0.23240341246128082,
          0.13175226747989655,
          0.4701416492462158,
          0.6340011358261108,
          0.1691211313009262,
          0.27837616205215454,
          0.2826738953590393,
          0.5698651671409607,
          0.5077023506164551,
          0.21130570769309998,
          0.02390940859913826,
          0.2048059105873108,
          0.40167540311813354,
          0.192729189991951,
          0.5722302794456482,
          0.4443747401237488,
          0.4122824966907501,
          0.09310553222894669,
          0.36102429032325745,
          0.22557005286216736,
          0.1262003630399704,
          0.5852884650230408,
          0.30550017952919006,
          0.11313361674547195,
          0.049852170050144196,
          0.362347811460495,
          0.6246303915977478,
          0.2851150929927826,
          0.46578097343444824,
          0.5091530084609985,
          0.20054373145103455,
          0.19377820193767548,
          0.31001392006874084,
          0.1978437304496765,
          0.41620662808418274,
          0.476378858089447,
          0.09209637343883514,
          0.020995065569877625,
          0.22677358984947205,
          0.3856421411037445,
          0.3573220372200012,
          0.08516211807727814,
          0.6070707440376282,
          0.4075143337249756,
          0.2483750581741333,
          0.5660849213600159,
          0.562944233417511,
          0.26059484481811523,
          0.3612267076969147,
          0.04840010777115822,
          0.14020936191082,
          0.4174095690250397,
          0.5135596394538879,
          0.28067517280578613,
          0.20239810645580292,
          0.7991894483566284,
          0.7441928386688232,
          0.2456245869398117,
          0.49596795439720154,
          0.4952508509159088,
          0.2188296765089035,
          0.1479872465133667,
          0.04472080245614052,
          0.38478076457977295,
          0.5517149567604065,
          0.315369576215744,
          0.7549542784690857,
          0.6192253232002258,
          0.3570505976676941,
          0.06420480459928513,
          0.08897554129362106,
          1.0000001192092896,
          0.2757265269756317,
          0.571333110332489,
          0.47465604543685913,
          0.16142310202121735,
          0.048380445688962936,
          0.22581905126571655,
          0.59453946352005,
          0.12001517415046692,
          0.3453112244606018,
          0.11338090151548386,
          0.0843326523900032,
          0.12850715219974518,
          0.2597406804561615,
          0.18219459056854248,
          0.9688210487365723,
          0.22727549076080322,
          0.10527697950601578,
          0.15862467885017395,
          0.00257335277274251,
          0.32185158133506775,
          0.07682379335165024,
          0.5844606161117554,
          0.7148481011390686,
          0.1589495688676834,
          0.2608938217163086,
          0.3178000748157501,
          0.36244285106658936,
          0.04434598982334137,
          0.3823457956314087,
          0.6533798575401306,
          0.33177152276039124,
          0.026397809386253357,
          0.3107290267944336,
          0.276568740606308,
          0.2528168559074402
         ]
        }
       ],
       "layout": {
        "hovermode": "x",
        "legend": {
         "font": {
          "color": "white",
          "family": "Arial",
          "size": 12
         }
        },
        "template": {
         "data": {
          "bar": [
           {
            "error_x": {
             "color": "#f2f5fa"
            },
            "error_y": {
             "color": "#f2f5fa"
            },
            "marker": {
             "line": {
              "color": "rgb(17,17,17)",
              "width": 0.5
             },
             "pattern": {
              "fillmode": "overlay",
              "size": 10,
              "solidity": 0.2
             }
            },
            "type": "bar"
           }
          ],
          "barpolar": [
           {
            "marker": {
             "line": {
              "color": "rgb(17,17,17)",
              "width": 0.5
             },
             "pattern": {
              "fillmode": "overlay",
              "size": 10,
              "solidity": 0.2
             }
            },
            "type": "barpolar"
           }
          ],
          "carpet": [
           {
            "aaxis": {
             "endlinecolor": "#A2B1C6",
             "gridcolor": "#506784",
             "linecolor": "#506784",
             "minorgridcolor": "#506784",
             "startlinecolor": "#A2B1C6"
            },
            "baxis": {
             "endlinecolor": "#A2B1C6",
             "gridcolor": "#506784",
             "linecolor": "#506784",
             "minorgridcolor": "#506784",
             "startlinecolor": "#A2B1C6"
            },
            "type": "carpet"
           }
          ],
          "choropleth": [
           {
            "colorbar": {
             "outlinewidth": 0,
             "ticks": ""
            },
            "type": "choropleth"
           }
          ],
          "contour": [
           {
            "colorbar": {
             "outlinewidth": 0,
             "ticks": ""
            },
            "colorscale": [
             [
              0,
              "#0d0887"
             ],
             [
              0.1111111111111111,
              "#46039f"
             ],
             [
              0.2222222222222222,
              "#7201a8"
             ],
             [
              0.3333333333333333,
              "#9c179e"
             ],
             [
              0.4444444444444444,
              "#bd3786"
             ],
             [
              0.5555555555555556,
              "#d8576b"
             ],
             [
              0.6666666666666666,
              "#ed7953"
             ],
             [
              0.7777777777777778,
              "#fb9f3a"
             ],
             [
              0.8888888888888888,
              "#fdca26"
             ],
             [
              1,
              "#f0f921"
             ]
            ],
            "type": "contour"
           }
          ],
          "contourcarpet": [
           {
            "colorbar": {
             "outlinewidth": 0,
             "ticks": ""
            },
            "type": "contourcarpet"
           }
          ],
          "heatmap": [
           {
            "colorbar": {
             "outlinewidth": 0,
             "ticks": ""
            },
            "colorscale": [
             [
              0,
              "#0d0887"
             ],
             [
              0.1111111111111111,
              "#46039f"
             ],
             [
              0.2222222222222222,
              "#7201a8"
             ],
             [
              0.3333333333333333,
              "#9c179e"
             ],
             [
              0.4444444444444444,
              "#bd3786"
             ],
             [
              0.5555555555555556,
              "#d8576b"
             ],
             [
              0.6666666666666666,
              "#ed7953"
             ],
             [
              0.7777777777777778,
              "#fb9f3a"
             ],
             [
              0.8888888888888888,
              "#fdca26"
             ],
             [
              1,
              "#f0f921"
             ]
            ],
            "type": "heatmap"
           }
          ],
          "heatmapgl": [
           {
            "colorbar": {
             "outlinewidth": 0,
             "ticks": ""
            },
            "colorscale": [
             [
              0,
              "#0d0887"
             ],
             [
              0.1111111111111111,
              "#46039f"
             ],
             [
              0.2222222222222222,
              "#7201a8"
             ],
             [
              0.3333333333333333,
              "#9c179e"
             ],
             [
              0.4444444444444444,
              "#bd3786"
             ],
             [
              0.5555555555555556,
              "#d8576b"
             ],
             [
              0.6666666666666666,
              "#ed7953"
             ],
             [
              0.7777777777777778,
              "#fb9f3a"
             ],
             [
              0.8888888888888888,
              "#fdca26"
             ],
             [
              1,
              "#f0f921"
             ]
            ],
            "type": "heatmapgl"
           }
          ],
          "histogram": [
           {
            "marker": {
             "pattern": {
              "fillmode": "overlay",
              "size": 10,
              "solidity": 0.2
             }
            },
            "type": "histogram"
           }
          ],
          "histogram2d": [
           {
            "colorbar": {
             "outlinewidth": 0,
             "ticks": ""
            },
            "colorscale": [
             [
              0,
              "#0d0887"
             ],
             [
              0.1111111111111111,
              "#46039f"
             ],
             [
              0.2222222222222222,
              "#7201a8"
             ],
             [
              0.3333333333333333,
              "#9c179e"
             ],
             [
              0.4444444444444444,
              "#bd3786"
             ],
             [
              0.5555555555555556,
              "#d8576b"
             ],
             [
              0.6666666666666666,
              "#ed7953"
             ],
             [
              0.7777777777777778,
              "#fb9f3a"
             ],
             [
              0.8888888888888888,
              "#fdca26"
             ],
             [
              1,
              "#f0f921"
             ]
            ],
            "type": "histogram2d"
           }
          ],
          "histogram2dcontour": [
           {
            "colorbar": {
             "outlinewidth": 0,
             "ticks": ""
            },
            "colorscale": [
             [
              0,
              "#0d0887"
             ],
             [
              0.1111111111111111,
              "#46039f"
             ],
             [
              0.2222222222222222,
              "#7201a8"
             ],
             [
              0.3333333333333333,
              "#9c179e"
             ],
             [
              0.4444444444444444,
              "#bd3786"
             ],
             [
              0.5555555555555556,
              "#d8576b"
             ],
             [
              0.6666666666666666,
              "#ed7953"
             ],
             [
              0.7777777777777778,
              "#fb9f3a"
             ],
             [
              0.8888888888888888,
              "#fdca26"
             ],
             [
              1,
              "#f0f921"
             ]
            ],
            "type": "histogram2dcontour"
           }
          ],
          "mesh3d": [
           {
            "colorbar": {
             "outlinewidth": 0,
             "ticks": ""
            },
            "type": "mesh3d"
           }
          ],
          "parcoords": [
           {
            "line": {
             "colorbar": {
              "outlinewidth": 0,
              "ticks": ""
             }
            },
            "type": "parcoords"
           }
          ],
          "pie": [
           {
            "automargin": true,
            "type": "pie"
           }
          ],
          "scatter": [
           {
            "marker": {
             "line": {
              "color": "#283442"
             }
            },
            "type": "scatter"
           }
          ],
          "scatter3d": [
           {
            "line": {
             "colorbar": {
              "outlinewidth": 0,
              "ticks": ""
             }
            },
            "marker": {
             "colorbar": {
              "outlinewidth": 0,
              "ticks": ""
             }
            },
            "type": "scatter3d"
           }
          ],
          "scattercarpet": [
           {
            "marker": {
             "colorbar": {
              "outlinewidth": 0,
              "ticks": ""
             }
            },
            "type": "scattercarpet"
           }
          ],
          "scattergeo": [
           {
            "marker": {
             "colorbar": {
              "outlinewidth": 0,
              "ticks": ""
             }
            },
            "type": "scattergeo"
           }
          ],
          "scattergl": [
           {
            "marker": {
             "line": {
              "color": "#283442"
             }
            },
            "type": "scattergl"
           }
          ],
          "scattermapbox": [
           {
            "marker": {
             "colorbar": {
              "outlinewidth": 0,
              "ticks": ""
             }
            },
            "type": "scattermapbox"
           }
          ],
          "scatterpolar": [
           {
            "marker": {
             "colorbar": {
              "outlinewidth": 0,
              "ticks": ""
             }
            },
            "type": "scatterpolar"
           }
          ],
          "scatterpolargl": [
           {
            "marker": {
             "colorbar": {
              "outlinewidth": 0,
              "ticks": ""
             }
            },
            "type": "scatterpolargl"
           }
          ],
          "scatterternary": [
           {
            "marker": {
             "colorbar": {
              "outlinewidth": 0,
              "ticks": ""
             }
            },
            "type": "scatterternary"
           }
          ],
          "surface": [
           {
            "colorbar": {
             "outlinewidth": 0,
             "ticks": ""
            },
            "colorscale": [
             [
              0,
              "#0d0887"
             ],
             [
              0.1111111111111111,
              "#46039f"
             ],
             [
              0.2222222222222222,
              "#7201a8"
             ],
             [
              0.3333333333333333,
              "#9c179e"
             ],
             [
              0.4444444444444444,
              "#bd3786"
             ],
             [
              0.5555555555555556,
              "#d8576b"
             ],
             [
              0.6666666666666666,
              "#ed7953"
             ],
             [
              0.7777777777777778,
              "#fb9f3a"
             ],
             [
              0.8888888888888888,
              "#fdca26"
             ],
             [
              1,
              "#f0f921"
             ]
            ],
            "type": "surface"
           }
          ],
          "table": [
           {
            "cells": {
             "fill": {
              "color": "#506784"
             },
             "line": {
              "color": "rgb(17,17,17)"
             }
            },
            "header": {
             "fill": {
              "color": "#2a3f5f"
             },
             "line": {
              "color": "rgb(17,17,17)"
             }
            },
            "type": "table"
           }
          ]
         },
         "layout": {
          "annotationdefaults": {
           "arrowcolor": "#f2f5fa",
           "arrowhead": 0,
           "arrowwidth": 1
          },
          "autotypenumbers": "strict",
          "coloraxis": {
           "colorbar": {
            "outlinewidth": 0,
            "ticks": ""
           }
          },
          "colorscale": {
           "diverging": [
            [
             0,
             "#8e0152"
            ],
            [
             0.1,
             "#c51b7d"
            ],
            [
             0.2,
             "#de77ae"
            ],
            [
             0.3,
             "#f1b6da"
            ],
            [
             0.4,
             "#fde0ef"
            ],
            [
             0.5,
             "#f7f7f7"
            ],
            [
             0.6,
             "#e6f5d0"
            ],
            [
             0.7,
             "#b8e186"
            ],
            [
             0.8,
             "#7fbc41"
            ],
            [
             0.9,
             "#4d9221"
            ],
            [
             1,
             "#276419"
            ]
           ],
           "sequential": [
            [
             0,
             "#0d0887"
            ],
            [
             0.1111111111111111,
             "#46039f"
            ],
            [
             0.2222222222222222,
             "#7201a8"
            ],
            [
             0.3333333333333333,
             "#9c179e"
            ],
            [
             0.4444444444444444,
             "#bd3786"
            ],
            [
             0.5555555555555556,
             "#d8576b"
            ],
            [
             0.6666666666666666,
             "#ed7953"
            ],
            [
             0.7777777777777778,
             "#fb9f3a"
            ],
            [
             0.8888888888888888,
             "#fdca26"
            ],
            [
             1,
             "#f0f921"
            ]
           ],
           "sequentialminus": [
            [
             0,
             "#0d0887"
            ],
            [
             0.1111111111111111,
             "#46039f"
            ],
            [
             0.2222222222222222,
             "#7201a8"
            ],
            [
             0.3333333333333333,
             "#9c179e"
            ],
            [
             0.4444444444444444,
             "#bd3786"
            ],
            [
             0.5555555555555556,
             "#d8576b"
            ],
            [
             0.6666666666666666,
             "#ed7953"
            ],
            [
             0.7777777777777778,
             "#fb9f3a"
            ],
            [
             0.8888888888888888,
             "#fdca26"
            ],
            [
             1,
             "#f0f921"
            ]
           ]
          },
          "colorway": [
           "#636efa",
           "#EF553B",
           "#00cc96",
           "#ab63fa",
           "#FFA15A",
           "#19d3f3",
           "#FF6692",
           "#B6E880",
           "#FF97FF",
           "#FECB52"
          ],
          "font": {
           "color": "#f2f5fa"
          },
          "geo": {
           "bgcolor": "rgb(17,17,17)",
           "lakecolor": "rgb(17,17,17)",
           "landcolor": "rgb(17,17,17)",
           "showlakes": true,
           "showland": true,
           "subunitcolor": "#506784"
          },
          "hoverlabel": {
           "align": "left"
          },
          "hovermode": "closest",
          "mapbox": {
           "style": "dark"
          },
          "paper_bgcolor": "rgb(17,17,17)",
          "plot_bgcolor": "rgb(17,17,17)",
          "polar": {
           "angularaxis": {
            "gridcolor": "#506784",
            "linecolor": "#506784",
            "ticks": ""
           },
           "bgcolor": "rgb(17,17,17)",
           "radialaxis": {
            "gridcolor": "#506784",
            "linecolor": "#506784",
            "ticks": ""
           }
          },
          "scene": {
           "xaxis": {
            "backgroundcolor": "rgb(17,17,17)",
            "gridcolor": "#506784",
            "gridwidth": 2,
            "linecolor": "#506784",
            "showbackground": true,
            "ticks": "",
            "zerolinecolor": "#C8D4E3"
           },
           "yaxis": {
            "backgroundcolor": "rgb(17,17,17)",
            "gridcolor": "#506784",
            "gridwidth": 2,
            "linecolor": "#506784",
            "showbackground": true,
            "ticks": "",
            "zerolinecolor": "#C8D4E3"
           },
           "zaxis": {
            "backgroundcolor": "rgb(17,17,17)",
            "gridcolor": "#506784",
            "gridwidth": 2,
            "linecolor": "#506784",
            "showbackground": true,
            "ticks": "",
            "zerolinecolor": "#C8D4E3"
           }
          },
          "shapedefaults": {
           "line": {
            "color": "#f2f5fa"
           }
          },
          "sliderdefaults": {
           "bgcolor": "#C8D4E3",
           "bordercolor": "rgb(17,17,17)",
           "borderwidth": 1,
           "tickwidth": 0
          },
          "ternary": {
           "aaxis": {
            "gridcolor": "#506784",
            "linecolor": "#506784",
            "ticks": ""
           },
           "baxis": {
            "gridcolor": "#506784",
            "linecolor": "#506784",
            "ticks": ""
           },
           "bgcolor": "rgb(17,17,17)",
           "caxis": {
            "gridcolor": "#506784",
            "linecolor": "#506784",
            "ticks": ""
           }
          },
          "title": {
           "x": 0.05
          },
          "updatemenudefaults": {
           "bgcolor": "#506784",
           "borderwidth": 0
          },
          "xaxis": {
           "automargin": true,
           "gridcolor": "#283442",
           "linecolor": "#506784",
           "ticks": "",
           "title": {
            "standoff": 15
           },
           "zerolinecolor": "#283442",
           "zerolinewidth": 2
          },
          "yaxis": {
           "automargin": true,
           "gridcolor": "#283442",
           "linecolor": "#506784",
           "ticks": "",
           "title": {
            "standoff": 15
           },
           "zerolinecolor": "#283442",
           "zerolinewidth": 2
          }
         }
        },
        "title": {
         "text": "Análise das vendas das Lojas 2021"
        },
        "xaxis": {
         "showgrid": false,
         "showline": true,
         "title": {
          "text": "data_do_pedido"
         }
        },
        "yaxis": {
         "showgrid": false,
         "showline": true,
         "title": {
          "text": "Valores"
         }
        }
       }
      }
     },
     "metadata": {},
     "output_type": "display_data"
    },
    {
     "data": {
      "application/vnd.plotly.v1+json": {
       "config": {
        "plotlyServerURL": "https://plot.ly"
       },
       "data": [
        {
         "mode": "lines",
         "name": "aumento",
         "type": "scatter",
         "x": [
          "2021-01-01",
          "2021-01-03",
          "2021-01-04",
          "2021-01-06",
          "2021-01-07",
          "2021-01-09",
          "2021-01-10",
          "2021-01-14",
          "2021-01-15",
          "2021-01-16",
          "2021-01-17",
          "2021-01-18",
          "2021-01-19",
          "2021-01-21",
          "2021-01-22",
          "2021-01-23",
          "2021-01-24",
          "2021-01-25",
          "2021-01-28",
          "2021-01-29",
          "2021-01-31",
          "2021-02-01",
          "2021-02-02",
          "2021-02-04",
          "2021-02-05",
          "2021-02-07",
          "2021-02-08",
          "2021-02-11",
          "2021-02-13",
          "2021-02-14",
          "2021-02-15",
          "2021-02-16",
          "2021-02-18",
          "2021-02-19",
          "2021-02-20",
          "2021-02-21",
          "2021-02-22",
          "2021-02-23",
          "2021-02-25",
          "2021-02-27",
          "2021-02-28",
          "2021-03-01",
          "2021-03-02",
          "2021-03-03",
          "2021-03-04",
          "2021-03-05",
          "2021-03-06",
          "2021-03-07",
          "2021-03-08",
          "2021-03-10",
          "2021-03-11",
          "2021-03-12",
          "2021-03-13",
          "2021-03-14",
          "2021-03-15",
          "2021-03-16",
          "2021-03-17",
          "2021-03-18",
          "2021-03-19",
          "2021-03-20",
          "2021-03-21",
          "2021-03-22",
          "2021-03-24",
          "2021-03-25",
          "2021-03-26",
          "2021-03-27",
          "2021-03-28",
          "2021-03-31",
          "2021-04-01",
          "2021-04-02",
          "2021-04-03",
          "2021-04-04",
          "2021-04-05",
          "2021-04-07",
          "2021-04-08",
          "2021-04-09",
          "2021-04-10",
          "2021-04-11",
          "2021-04-12",
          "2021-04-14",
          "2021-04-15",
          "2021-04-16",
          "2021-04-17",
          "2021-04-18",
          "2021-04-19",
          "2021-04-21",
          "2021-04-22",
          "2021-04-23",
          "2021-04-24",
          "2021-04-25",
          "2021-04-26",
          "2021-04-27",
          "2021-04-28",
          "2021-04-29",
          "2021-04-30",
          "2021-05-01",
          "2021-05-02",
          "2021-05-05",
          "2021-05-06",
          "2021-05-07",
          "2021-05-08",
          "2021-05-09",
          "2021-05-10",
          "2021-05-11",
          "2021-05-12",
          "2021-05-13",
          "2021-05-14",
          "2021-05-15",
          "2021-05-16",
          "2021-05-17",
          "2021-05-18",
          "2021-05-19",
          "2021-05-20",
          "2021-05-21",
          "2021-05-22",
          "2021-05-23",
          "2021-05-26",
          "2021-05-27",
          "2021-05-28",
          "2021-05-29",
          "2021-05-30",
          "2021-05-31",
          "2021-06-02",
          "2021-06-03",
          "2021-06-04",
          "2021-06-05",
          "2021-06-06",
          "2021-06-07",
          "2021-06-08",
          "2021-06-09",
          "2021-06-10",
          "2021-06-11",
          "2021-06-12",
          "2021-06-13",
          "2021-06-14",
          "2021-06-15",
          "2021-06-16",
          "2021-06-17",
          "2021-06-18",
          "2021-06-19",
          "2021-06-20",
          "2021-06-21",
          "2021-06-23",
          "2021-06-24",
          "2021-06-25",
          "2021-06-26",
          "2021-06-27",
          "2021-06-28",
          "2021-06-30",
          "2021-07-01",
          "2021-07-02",
          "2021-07-03",
          "2021-07-04",
          "2021-07-05",
          "2021-07-06",
          "2021-07-07",
          "2021-07-08",
          "2021-07-09",
          "2021-07-10",
          "2021-07-11",
          "2021-07-12",
          "2021-07-14",
          "2021-07-15",
          "2021-07-16",
          "2021-07-17",
          "2021-07-18",
          "2021-07-19",
          "2021-07-21",
          "2021-07-22",
          "2021-07-23",
          "2021-07-24",
          "2021-07-25",
          "2021-07-26",
          "2021-07-27",
          "2021-07-28",
          "2021-07-29",
          "2021-07-30",
          "2021-07-31",
          "2021-08-01",
          "2021-08-02",
          "2021-08-03",
          "2021-08-04",
          "2021-08-05",
          "2021-08-06",
          "2021-08-07",
          "2021-08-08",
          "2021-08-09",
          "2021-08-11",
          "2021-08-12",
          "2021-08-13",
          "2021-08-15",
          "2021-08-16",
          "2021-08-18",
          "2021-08-19",
          "2021-08-20",
          "2021-08-21",
          "2021-08-22",
          "2021-08-23",
          "2021-08-26",
          "2021-08-27",
          "2021-08-28",
          "2021-08-29",
          "2021-08-30",
          "2021-09-01",
          "2021-09-02",
          "2021-09-03",
          "2021-09-04",
          "2021-09-05",
          "2021-09-06",
          "2021-09-08",
          "2021-09-09",
          "2021-09-10",
          "2021-09-11",
          "2021-09-12",
          "2021-09-13",
          "2021-09-15",
          "2021-09-16",
          "2021-09-17",
          "2021-09-18",
          "2021-09-19",
          "2021-09-20",
          "2021-09-22",
          "2021-09-23",
          "2021-09-24",
          "2021-09-25",
          "2021-09-26",
          "2021-09-27",
          "2021-09-28",
          "2021-09-29",
          "2021-09-30",
          "2021-10-01",
          "2021-10-02",
          "2021-10-03",
          "2021-10-04",
          "2021-10-05",
          "2021-10-06",
          "2021-10-07",
          "2021-10-08",
          "2021-10-09",
          "2021-10-10",
          "2021-10-12",
          "2021-10-13",
          "2021-10-14",
          "2021-10-15",
          "2021-10-16",
          "2021-10-17",
          "2021-10-18",
          "2021-10-19",
          "2021-10-20",
          "2021-10-21",
          "2021-10-22",
          "2021-10-23",
          "2021-10-24",
          "2021-10-25",
          "2021-10-27",
          "2021-10-28",
          "2021-10-29",
          "2021-10-30",
          "2021-10-31",
          "2021-11-01",
          "2021-11-03",
          "2021-11-04",
          "2021-11-05",
          "2021-11-06",
          "2021-11-07",
          "2021-11-08",
          "2021-11-10",
          "2021-11-11",
          "2021-11-12",
          "2021-11-13",
          "2021-11-14",
          "2021-11-15",
          "2021-11-16",
          "2021-11-17",
          "2021-11-18",
          "2021-11-19",
          "2021-11-20",
          "2021-11-21",
          "2021-11-22",
          "2021-11-23",
          "2021-11-24",
          "2021-11-25",
          "2021-11-26",
          "2021-11-27",
          "2021-11-28",
          "2021-11-29",
          "2021-11-30",
          "2021-12-01",
          "2021-12-02",
          "2021-12-03",
          "2021-12-04",
          "2021-12-05",
          "2021-12-06",
          "2021-12-07",
          "2021-12-08",
          "2021-12-09",
          "2021-12-10",
          "2021-12-11",
          "2021-12-12",
          "2021-12-13",
          "2021-12-14",
          "2021-12-15",
          "2021-12-16",
          "2021-12-17",
          "2021-12-18",
          "2021-12-19",
          "2021-12-20",
          "2021-12-22",
          "2021-12-23",
          "2021-12-24",
          "2021-12-25",
          "2021-12-26",
          "2021-12-27",
          "2021-12-28",
          "2021-12-29",
          "2021-12-30",
          "2021-12-31"
         ],
         "y": [
          null,
          -8373.046875,
          -4480.740234375,
          209.5999755859375,
          2350,
          32565.19921875,
          -21309.3984375,
          -7849.599609375,
          -1760.6005859375,
          8639.6884765625,
          16836.8359375,
          -26147.5234375,
          3722,
          -7818.599609375,
          16368.2060546875,
          -548.125,
          -13668.4814453125,
          16092.0810546875,
          -15166.6806640625,
          -1791,
          262.56005859375,
          4185.919921875,
          -4988.8798828125,
          2702.599853515625,
          30577.521484375,
          -13426.162109375,
          -15170.759765625,
          -2442.719970703125,
          3229.360107421875,
          -4906.83984375,
          -81.920166015625,
          1340.320068359375,
          -365.7998046875,
          404.8798828125,
          6694.5595703125,
          -7849.919921875,
          267.880126953125,
          3834.199951171875,
          12829.052734375,
          5549.1484375,
          -17032.95703125,
          3939.68310546875,
          -10787.5263671875,
          10856.279296875,
          2628.240234375,
          -1807.2998046875,
          -3003.7001953125,
          4981.6396484375,
          -4695.19921875,
          -5993.96044921875,
          36945,
          -18108.517578125,
          -17570.08203125,
          12418.5595703125,
          -17044.6796875,
          296.55999755859375,
          14419.298828125,
          15659.88671875,
          5581.65234375,
          -23346.23828125,
          -6392.759765625,
          -2704.52001953125,
          38434.80078125,
          -26807.0625,
          -10410.587890625,
          8405.197265625,
          16379.888671875,
          -28955.35546875,
          8989.83984375,
          5203.03515625,
          -7282.91552734375,
          -4940.3203125,
          1243.440185546875,
          5060.15966796875,
          10635.720703125,
          19820.681640625,
          -9774.8671875,
          11126.76953125,
          -40999.0625,
          8180.2802734375,
          20854.48046875,
          2307.189453125,
          -3093.951171875,
          -21153,
          111.47998046875,
          16155.111328125,
          -10391.951171875,
          9117.869140625,
          -18039.58984375,
          -236.19970703125,
          -61.9599609375,
          3873.87548828125,
          11975.0029296875,
          -6926.318359375,
          -7635.81201171875,
          -3960.708251953125,
          5874.9794921875,
          -2559.49951171875,
          111.8798828125,
          21747,
          4085.01953125,
          -19093.69921875,
          10310.44921875,
          -19328.25,
          9010.576171875,
          10266.984375,
          -18635.359375,
          28675.080078125,
          2806.958984375,
          -33599.80078125,
          -424.03997802734375,
          69429.578125,
          -56951.5625,
          14815.302734375,
          -17186.71875,
          -1560.0009765625,
          1042.9599609375,
          18221.61328125,
          -13187.3740234375,
          -4744.599609375,
          1080.1796875,
          -4388.10009765625,
          9363.6796875,
          53260.28125,
          -49294.4140625,
          6044.490234375,
          29031.328125,
          -51168.46875,
          -3712.981689453125,
          42823.390625,
          -20517.330078125,
          16483.669921875,
          -22849,
          -2534.7119140625,
          4493.3818359375,
          -11616.19921875,
          40771.171875,
          -34720.96875,
          10058.896484375,
          16230.3203125,
          -27161.140625,
          -6757.11962890625,
          26933.2578125,
          35665.125,
          -41256.6640625,
          21412.623046875,
          -14751.421875,
          -20524.48046875,
          14633.51953125,
          -27051.51953125,
          41222.2421875,
          -25155.5,
          20855.65625,
          -9159.359375,
          -27597.55859375,
          10981.580078125,
          252.0595703125,
          1356.828125,
          4858.1708984375,
          4285.16015625,
          -20833.080078125,
          20033.8046875,
          -18254.203125,
          11891.0146484375,
          -14785.5341796875,
          407.7200012207031,
          3067.304443359375,
          47629.78515625,
          -42817.8203125,
          -5503.587890625,
          16256.28125,
          -11438.8271484375,
          -1870.173828125,
          3142.0400390625,
          10267.05859375,
          926.703125,
          16075.30078125,
          -5944.0625,
          2654.3984375,
          -30540.318359375,
          -1399.9200439453125,
          3336.43994140625,
          3805.75927734375,
          2702.40234375,
          28679.26953125,
          -19334.53125,
          -14755.900390625,
          -3908.400146484375,
          11384.1318359375,
          5490.107421875,
          35584.703125,
          -21883.140625,
          -14974.439453125,
          -9175.56640625,
          25692.591796875,
          -9671.306640625,
          -11857.6796875,
          -10635.8798828125,
          19407.302734375,
          -12996.4921875,
          17738.34765625,
          74371.375,
          -97416.0546875,
          25458.19921875,
          -16162.59765625,
          18419.91796875,
          -14385.9208984375,
          46076.98046875,
          -59390.421875,
          49728.80078125,
          -28738.90625,
          -10236.6142578125,
          34415.51953125,
          16665.14453125,
          -47280.10546875,
          11111.662109375,
          437.09765625,
          29208.470703125,
          -6322.203125,
          -30144.69140625,
          -19058.935546875,
          18397.880859375,
          20022.39453125,
          -21250.64453125,
          38596.73828125,
          -13003.40234375,
          -3263.90625,
          -32461.54296875,
          27248.3828125,
          -13776.224609375,
          -10106.28515625,
          46691.046875,
          -28455.55859375,
          -19564.4296875,
          -6435.970703125,
          31782.025390625,
          26675.16015625,
          -34530.03125,
          18374.427734375,
          4411.1015625,
          -31386.765625,
          -688.080078125,
          11821.625,
          -11408.14453125,
          22208.357421875,
          6119.75,
          -39083.02734375,
          -7231.2802734375,
          20928.48046875,
          16157.55078125,
          -2880.265625,
          -27679.724609375,
          53080.140625,
          -20295.66015625,
          -16185.0859375,
          32312.328125,
          -319.41796875,
          -30750.111328125,
          10234.654296875,
          -31815.685546875,
          9337.359375,
          28192.341796875,
          9778.83203125,
          -23685.25390625,
          -7961.08203125,
          60696.00390625,
          -5593.3671875,
          -50706.3359375,
          25460.8984375,
          -72.93359375,
          -28113.111328125,
          -7204.951171875,
          -10502.6005859375,
          34585.42578125,
          16977.85546875,
          -24037.244140625,
          44707.4765625,
          -13804.1640625,
          -26664.1875,
          -29783.55859375,
          2519.2802734375,
          92654.75,
          -73661.4453125,
          30064.33984375,
          -9832.4296875,
          -31857.013671875,
          -11496.87890625,
          18046.19921875,
          37500.3046875,
          -48260.96875,
          22913.486328125,
          -23588.21875,
          -2954.3203125,
          4492.71875,
          13346.9619140625,
          -7886.740234375,
          80002.9765625,
          -75418.0703125,
          -12407.724609375,
          5425.6689453125,
          -15871.029296875,
          32471.83984375,
          -24920.28125,
          51628.640625,
          13260.91796875,
          -56537.046875,
          10368.1279296875,
          5787.587890625,
          4540.345703125,
          -32351.693359375,
          34375.8984375,
          27565.21484375,
          -32708.81640625,
          -31057.69921875,
          28917.59375,
          -3474.232421875,
          -2415.66015625
         ]
        }
       ],
       "layout": {
        "hovermode": "x",
        "legend": {
         "font": {
          "color": "white",
          "family": "Arial",
          "size": 12
         }
        },
        "template": {
         "data": {
          "bar": [
           {
            "error_x": {
             "color": "#f2f5fa"
            },
            "error_y": {
             "color": "#f2f5fa"
            },
            "marker": {
             "line": {
              "color": "rgb(17,17,17)",
              "width": 0.5
             },
             "pattern": {
              "fillmode": "overlay",
              "size": 10,
              "solidity": 0.2
             }
            },
            "type": "bar"
           }
          ],
          "barpolar": [
           {
            "marker": {
             "line": {
              "color": "rgb(17,17,17)",
              "width": 0.5
             },
             "pattern": {
              "fillmode": "overlay",
              "size": 10,
              "solidity": 0.2
             }
            },
            "type": "barpolar"
           }
          ],
          "carpet": [
           {
            "aaxis": {
             "endlinecolor": "#A2B1C6",
             "gridcolor": "#506784",
             "linecolor": "#506784",
             "minorgridcolor": "#506784",
             "startlinecolor": "#A2B1C6"
            },
            "baxis": {
             "endlinecolor": "#A2B1C6",
             "gridcolor": "#506784",
             "linecolor": "#506784",
             "minorgridcolor": "#506784",
             "startlinecolor": "#A2B1C6"
            },
            "type": "carpet"
           }
          ],
          "choropleth": [
           {
            "colorbar": {
             "outlinewidth": 0,
             "ticks": ""
            },
            "type": "choropleth"
           }
          ],
          "contour": [
           {
            "colorbar": {
             "outlinewidth": 0,
             "ticks": ""
            },
            "colorscale": [
             [
              0,
              "#0d0887"
             ],
             [
              0.1111111111111111,
              "#46039f"
             ],
             [
              0.2222222222222222,
              "#7201a8"
             ],
             [
              0.3333333333333333,
              "#9c179e"
             ],
             [
              0.4444444444444444,
              "#bd3786"
             ],
             [
              0.5555555555555556,
              "#d8576b"
             ],
             [
              0.6666666666666666,
              "#ed7953"
             ],
             [
              0.7777777777777778,
              "#fb9f3a"
             ],
             [
              0.8888888888888888,
              "#fdca26"
             ],
             [
              1,
              "#f0f921"
             ]
            ],
            "type": "contour"
           }
          ],
          "contourcarpet": [
           {
            "colorbar": {
             "outlinewidth": 0,
             "ticks": ""
            },
            "type": "contourcarpet"
           }
          ],
          "heatmap": [
           {
            "colorbar": {
             "outlinewidth": 0,
             "ticks": ""
            },
            "colorscale": [
             [
              0,
              "#0d0887"
             ],
             [
              0.1111111111111111,
              "#46039f"
             ],
             [
              0.2222222222222222,
              "#7201a8"
             ],
             [
              0.3333333333333333,
              "#9c179e"
             ],
             [
              0.4444444444444444,
              "#bd3786"
             ],
             [
              0.5555555555555556,
              "#d8576b"
             ],
             [
              0.6666666666666666,
              "#ed7953"
             ],
             [
              0.7777777777777778,
              "#fb9f3a"
             ],
             [
              0.8888888888888888,
              "#fdca26"
             ],
             [
              1,
              "#f0f921"
             ]
            ],
            "type": "heatmap"
           }
          ],
          "heatmapgl": [
           {
            "colorbar": {
             "outlinewidth": 0,
             "ticks": ""
            },
            "colorscale": [
             [
              0,
              "#0d0887"
             ],
             [
              0.1111111111111111,
              "#46039f"
             ],
             [
              0.2222222222222222,
              "#7201a8"
             ],
             [
              0.3333333333333333,
              "#9c179e"
             ],
             [
              0.4444444444444444,
              "#bd3786"
             ],
             [
              0.5555555555555556,
              "#d8576b"
             ],
             [
              0.6666666666666666,
              "#ed7953"
             ],
             [
              0.7777777777777778,
              "#fb9f3a"
             ],
             [
              0.8888888888888888,
              "#fdca26"
             ],
             [
              1,
              "#f0f921"
             ]
            ],
            "type": "heatmapgl"
           }
          ],
          "histogram": [
           {
            "marker": {
             "pattern": {
              "fillmode": "overlay",
              "size": 10,
              "solidity": 0.2
             }
            },
            "type": "histogram"
           }
          ],
          "histogram2d": [
           {
            "colorbar": {
             "outlinewidth": 0,
             "ticks": ""
            },
            "colorscale": [
             [
              0,
              "#0d0887"
             ],
             [
              0.1111111111111111,
              "#46039f"
             ],
             [
              0.2222222222222222,
              "#7201a8"
             ],
             [
              0.3333333333333333,
              "#9c179e"
             ],
             [
              0.4444444444444444,
              "#bd3786"
             ],
             [
              0.5555555555555556,
              "#d8576b"
             ],
             [
              0.6666666666666666,
              "#ed7953"
             ],
             [
              0.7777777777777778,
              "#fb9f3a"
             ],
             [
              0.8888888888888888,
              "#fdca26"
             ],
             [
              1,
              "#f0f921"
             ]
            ],
            "type": "histogram2d"
           }
          ],
          "histogram2dcontour": [
           {
            "colorbar": {
             "outlinewidth": 0,
             "ticks": ""
            },
            "colorscale": [
             [
              0,
              "#0d0887"
             ],
             [
              0.1111111111111111,
              "#46039f"
             ],
             [
              0.2222222222222222,
              "#7201a8"
             ],
             [
              0.3333333333333333,
              "#9c179e"
             ],
             [
              0.4444444444444444,
              "#bd3786"
             ],
             [
              0.5555555555555556,
              "#d8576b"
             ],
             [
              0.6666666666666666,
              "#ed7953"
             ],
             [
              0.7777777777777778,
              "#fb9f3a"
             ],
             [
              0.8888888888888888,
              "#fdca26"
             ],
             [
              1,
              "#f0f921"
             ]
            ],
            "type": "histogram2dcontour"
           }
          ],
          "mesh3d": [
           {
            "colorbar": {
             "outlinewidth": 0,
             "ticks": ""
            },
            "type": "mesh3d"
           }
          ],
          "parcoords": [
           {
            "line": {
             "colorbar": {
              "outlinewidth": 0,
              "ticks": ""
             }
            },
            "type": "parcoords"
           }
          ],
          "pie": [
           {
            "automargin": true,
            "type": "pie"
           }
          ],
          "scatter": [
           {
            "marker": {
             "line": {
              "color": "#283442"
             }
            },
            "type": "scatter"
           }
          ],
          "scatter3d": [
           {
            "line": {
             "colorbar": {
              "outlinewidth": 0,
              "ticks": ""
             }
            },
            "marker": {
             "colorbar": {
              "outlinewidth": 0,
              "ticks": ""
             }
            },
            "type": "scatter3d"
           }
          ],
          "scattercarpet": [
           {
            "marker": {
             "colorbar": {
              "outlinewidth": 0,
              "ticks": ""
             }
            },
            "type": "scattercarpet"
           }
          ],
          "scattergeo": [
           {
            "marker": {
             "colorbar": {
              "outlinewidth": 0,
              "ticks": ""
             }
            },
            "type": "scattergeo"
           }
          ],
          "scattergl": [
           {
            "marker": {
             "line": {
              "color": "#283442"
             }
            },
            "type": "scattergl"
           }
          ],
          "scattermapbox": [
           {
            "marker": {
             "colorbar": {
              "outlinewidth": 0,
              "ticks": ""
             }
            },
            "type": "scattermapbox"
           }
          ],
          "scatterpolar": [
           {
            "marker": {
             "colorbar": {
              "outlinewidth": 0,
              "ticks": ""
             }
            },
            "type": "scatterpolar"
           }
          ],
          "scatterpolargl": [
           {
            "marker": {
             "colorbar": {
              "outlinewidth": 0,
              "ticks": ""
             }
            },
            "type": "scatterpolargl"
           }
          ],
          "scatterternary": [
           {
            "marker": {
             "colorbar": {
              "outlinewidth": 0,
              "ticks": ""
             }
            },
            "type": "scatterternary"
           }
          ],
          "surface": [
           {
            "colorbar": {
             "outlinewidth": 0,
             "ticks": ""
            },
            "colorscale": [
             [
              0,
              "#0d0887"
             ],
             [
              0.1111111111111111,
              "#46039f"
             ],
             [
              0.2222222222222222,
              "#7201a8"
             ],
             [
              0.3333333333333333,
              "#9c179e"
             ],
             [
              0.4444444444444444,
              "#bd3786"
             ],
             [
              0.5555555555555556,
              "#d8576b"
             ],
             [
              0.6666666666666666,
              "#ed7953"
             ],
             [
              0.7777777777777778,
              "#fb9f3a"
             ],
             [
              0.8888888888888888,
              "#fdca26"
             ],
             [
              1,
              "#f0f921"
             ]
            ],
            "type": "surface"
           }
          ],
          "table": [
           {
            "cells": {
             "fill": {
              "color": "#506784"
             },
             "line": {
              "color": "rgb(17,17,17)"
             }
            },
            "header": {
             "fill": {
              "color": "#2a3f5f"
             },
             "line": {
              "color": "rgb(17,17,17)"
             }
            },
            "type": "table"
           }
          ]
         },
         "layout": {
          "annotationdefaults": {
           "arrowcolor": "#f2f5fa",
           "arrowhead": 0,
           "arrowwidth": 1
          },
          "autotypenumbers": "strict",
          "coloraxis": {
           "colorbar": {
            "outlinewidth": 0,
            "ticks": ""
           }
          },
          "colorscale": {
           "diverging": [
            [
             0,
             "#8e0152"
            ],
            [
             0.1,
             "#c51b7d"
            ],
            [
             0.2,
             "#de77ae"
            ],
            [
             0.3,
             "#f1b6da"
            ],
            [
             0.4,
             "#fde0ef"
            ],
            [
             0.5,
             "#f7f7f7"
            ],
            [
             0.6,
             "#e6f5d0"
            ],
            [
             0.7,
             "#b8e186"
            ],
            [
             0.8,
             "#7fbc41"
            ],
            [
             0.9,
             "#4d9221"
            ],
            [
             1,
             "#276419"
            ]
           ],
           "sequential": [
            [
             0,
             "#0d0887"
            ],
            [
             0.1111111111111111,
             "#46039f"
            ],
            [
             0.2222222222222222,
             "#7201a8"
            ],
            [
             0.3333333333333333,
             "#9c179e"
            ],
            [
             0.4444444444444444,
             "#bd3786"
            ],
            [
             0.5555555555555556,
             "#d8576b"
            ],
            [
             0.6666666666666666,
             "#ed7953"
            ],
            [
             0.7777777777777778,
             "#fb9f3a"
            ],
            [
             0.8888888888888888,
             "#fdca26"
            ],
            [
             1,
             "#f0f921"
            ]
           ],
           "sequentialminus": [
            [
             0,
             "#0d0887"
            ],
            [
             0.1111111111111111,
             "#46039f"
            ],
            [
             0.2222222222222222,
             "#7201a8"
            ],
            [
             0.3333333333333333,
             "#9c179e"
            ],
            [
             0.4444444444444444,
             "#bd3786"
            ],
            [
             0.5555555555555556,
             "#d8576b"
            ],
            [
             0.6666666666666666,
             "#ed7953"
            ],
            [
             0.7777777777777778,
             "#fb9f3a"
            ],
            [
             0.8888888888888888,
             "#fdca26"
            ],
            [
             1,
             "#f0f921"
            ]
           ]
          },
          "colorway": [
           "#636efa",
           "#EF553B",
           "#00cc96",
           "#ab63fa",
           "#FFA15A",
           "#19d3f3",
           "#FF6692",
           "#B6E880",
           "#FF97FF",
           "#FECB52"
          ],
          "font": {
           "color": "#f2f5fa"
          },
          "geo": {
           "bgcolor": "rgb(17,17,17)",
           "lakecolor": "rgb(17,17,17)",
           "landcolor": "rgb(17,17,17)",
           "showlakes": true,
           "showland": true,
           "subunitcolor": "#506784"
          },
          "hoverlabel": {
           "align": "left"
          },
          "hovermode": "closest",
          "mapbox": {
           "style": "dark"
          },
          "paper_bgcolor": "rgb(17,17,17)",
          "plot_bgcolor": "rgb(17,17,17)",
          "polar": {
           "angularaxis": {
            "gridcolor": "#506784",
            "linecolor": "#506784",
            "ticks": ""
           },
           "bgcolor": "rgb(17,17,17)",
           "radialaxis": {
            "gridcolor": "#506784",
            "linecolor": "#506784",
            "ticks": ""
           }
          },
          "scene": {
           "xaxis": {
            "backgroundcolor": "rgb(17,17,17)",
            "gridcolor": "#506784",
            "gridwidth": 2,
            "linecolor": "#506784",
            "showbackground": true,
            "ticks": "",
            "zerolinecolor": "#C8D4E3"
           },
           "yaxis": {
            "backgroundcolor": "rgb(17,17,17)",
            "gridcolor": "#506784",
            "gridwidth": 2,
            "linecolor": "#506784",
            "showbackground": true,
            "ticks": "",
            "zerolinecolor": "#C8D4E3"
           },
           "zaxis": {
            "backgroundcolor": "rgb(17,17,17)",
            "gridcolor": "#506784",
            "gridwidth": 2,
            "linecolor": "#506784",
            "showbackground": true,
            "ticks": "",
            "zerolinecolor": "#C8D4E3"
           }
          },
          "shapedefaults": {
           "line": {
            "color": "#f2f5fa"
           }
          },
          "sliderdefaults": {
           "bgcolor": "#C8D4E3",
           "bordercolor": "rgb(17,17,17)",
           "borderwidth": 1,
           "tickwidth": 0
          },
          "ternary": {
           "aaxis": {
            "gridcolor": "#506784",
            "linecolor": "#506784",
            "ticks": ""
           },
           "baxis": {
            "gridcolor": "#506784",
            "linecolor": "#506784",
            "ticks": ""
           },
           "bgcolor": "rgb(17,17,17)",
           "caxis": {
            "gridcolor": "#506784",
            "linecolor": "#506784",
            "ticks": ""
           }
          },
          "title": {
           "x": 0.05
          },
          "updatemenudefaults": {
           "bgcolor": "#506784",
           "borderwidth": 0
          },
          "xaxis": {
           "automargin": true,
           "gridcolor": "#283442",
           "linecolor": "#506784",
           "ticks": "",
           "title": {
            "standoff": 15
           },
           "zerolinecolor": "#283442",
           "zerolinewidth": 2
          },
          "yaxis": {
           "automargin": true,
           "gridcolor": "#283442",
           "linecolor": "#506784",
           "ticks": "",
           "title": {
            "standoff": 15
           },
           "zerolinecolor": "#283442",
           "zerolinewidth": 2
          }
         }
        },
        "title": {
         "text": "Análise das vendas das Lojas 2021"
        },
        "xaxis": {
         "showgrid": false,
         "showline": true,
         "title": {
          "text": "data_do_pedido"
         }
        },
        "yaxis": {
         "showgrid": false,
         "showline": true,
         "title": {
          "text": "Valores"
         }
        }
       }
      }
     },
     "metadata": {},
     "output_type": "display_data"
    },
    {
     "data": {
      "application/vnd.plotly.v1+json": {
       "config": {
        "plotlyServerURL": "https://plot.ly"
       },
       "data": [
        {
         "mode": "lines",
         "name": "aceleracao",
         "type": "scatter",
         "x": [
          "2021-01-01",
          "2021-01-03",
          "2021-01-04",
          "2021-01-06",
          "2021-01-07",
          "2021-01-09",
          "2021-01-10",
          "2021-01-14",
          "2021-01-15",
          "2021-01-16",
          "2021-01-17",
          "2021-01-18",
          "2021-01-19",
          "2021-01-21",
          "2021-01-22",
          "2021-01-23",
          "2021-01-24",
          "2021-01-25",
          "2021-01-28",
          "2021-01-29",
          "2021-01-31",
          "2021-02-01",
          "2021-02-02",
          "2021-02-04",
          "2021-02-05",
          "2021-02-07",
          "2021-02-08",
          "2021-02-11",
          "2021-02-13",
          "2021-02-14",
          "2021-02-15",
          "2021-02-16",
          "2021-02-18",
          "2021-02-19",
          "2021-02-20",
          "2021-02-21",
          "2021-02-22",
          "2021-02-23",
          "2021-02-25",
          "2021-02-27",
          "2021-02-28",
          "2021-03-01",
          "2021-03-02",
          "2021-03-03",
          "2021-03-04",
          "2021-03-05",
          "2021-03-06",
          "2021-03-07",
          "2021-03-08",
          "2021-03-10",
          "2021-03-11",
          "2021-03-12",
          "2021-03-13",
          "2021-03-14",
          "2021-03-15",
          "2021-03-16",
          "2021-03-17",
          "2021-03-18",
          "2021-03-19",
          "2021-03-20",
          "2021-03-21",
          "2021-03-22",
          "2021-03-24",
          "2021-03-25",
          "2021-03-26",
          "2021-03-27",
          "2021-03-28",
          "2021-03-31",
          "2021-04-01",
          "2021-04-02",
          "2021-04-03",
          "2021-04-04",
          "2021-04-05",
          "2021-04-07",
          "2021-04-08",
          "2021-04-09",
          "2021-04-10",
          "2021-04-11",
          "2021-04-12",
          "2021-04-14",
          "2021-04-15",
          "2021-04-16",
          "2021-04-17",
          "2021-04-18",
          "2021-04-19",
          "2021-04-21",
          "2021-04-22",
          "2021-04-23",
          "2021-04-24",
          "2021-04-25",
          "2021-04-26",
          "2021-04-27",
          "2021-04-28",
          "2021-04-29",
          "2021-04-30",
          "2021-05-01",
          "2021-05-02",
          "2021-05-05",
          "2021-05-06",
          "2021-05-07",
          "2021-05-08",
          "2021-05-09",
          "2021-05-10",
          "2021-05-11",
          "2021-05-12",
          "2021-05-13",
          "2021-05-14",
          "2021-05-15",
          "2021-05-16",
          "2021-05-17",
          "2021-05-18",
          "2021-05-19",
          "2021-05-20",
          "2021-05-21",
          "2021-05-22",
          "2021-05-23",
          "2021-05-26",
          "2021-05-27",
          "2021-05-28",
          "2021-05-29",
          "2021-05-30",
          "2021-05-31",
          "2021-06-02",
          "2021-06-03",
          "2021-06-04",
          "2021-06-05",
          "2021-06-06",
          "2021-06-07",
          "2021-06-08",
          "2021-06-09",
          "2021-06-10",
          "2021-06-11",
          "2021-06-12",
          "2021-06-13",
          "2021-06-14",
          "2021-06-15",
          "2021-06-16",
          "2021-06-17",
          "2021-06-18",
          "2021-06-19",
          "2021-06-20",
          "2021-06-21",
          "2021-06-23",
          "2021-06-24",
          "2021-06-25",
          "2021-06-26",
          "2021-06-27",
          "2021-06-28",
          "2021-06-30",
          "2021-07-01",
          "2021-07-02",
          "2021-07-03",
          "2021-07-04",
          "2021-07-05",
          "2021-07-06",
          "2021-07-07",
          "2021-07-08",
          "2021-07-09",
          "2021-07-10",
          "2021-07-11",
          "2021-07-12",
          "2021-07-14",
          "2021-07-15",
          "2021-07-16",
          "2021-07-17",
          "2021-07-18",
          "2021-07-19",
          "2021-07-21",
          "2021-07-22",
          "2021-07-23",
          "2021-07-24",
          "2021-07-25",
          "2021-07-26",
          "2021-07-27",
          "2021-07-28",
          "2021-07-29",
          "2021-07-30",
          "2021-07-31",
          "2021-08-01",
          "2021-08-02",
          "2021-08-03",
          "2021-08-04",
          "2021-08-05",
          "2021-08-06",
          "2021-08-07",
          "2021-08-08",
          "2021-08-09",
          "2021-08-11",
          "2021-08-12",
          "2021-08-13",
          "2021-08-15",
          "2021-08-16",
          "2021-08-18",
          "2021-08-19",
          "2021-08-20",
          "2021-08-21",
          "2021-08-22",
          "2021-08-23",
          "2021-08-26",
          "2021-08-27",
          "2021-08-28",
          "2021-08-29",
          "2021-08-30",
          "2021-09-01",
          "2021-09-02",
          "2021-09-03",
          "2021-09-04",
          "2021-09-05",
          "2021-09-06",
          "2021-09-08",
          "2021-09-09",
          "2021-09-10",
          "2021-09-11",
          "2021-09-12",
          "2021-09-13",
          "2021-09-15",
          "2021-09-16",
          "2021-09-17",
          "2021-09-18",
          "2021-09-19",
          "2021-09-20",
          "2021-09-22",
          "2021-09-23",
          "2021-09-24",
          "2021-09-25",
          "2021-09-26",
          "2021-09-27",
          "2021-09-28",
          "2021-09-29",
          "2021-09-30",
          "2021-10-01",
          "2021-10-02",
          "2021-10-03",
          "2021-10-04",
          "2021-10-05",
          "2021-10-06",
          "2021-10-07",
          "2021-10-08",
          "2021-10-09",
          "2021-10-10",
          "2021-10-12",
          "2021-10-13",
          "2021-10-14",
          "2021-10-15",
          "2021-10-16",
          "2021-10-17",
          "2021-10-18",
          "2021-10-19",
          "2021-10-20",
          "2021-10-21",
          "2021-10-22",
          "2021-10-23",
          "2021-10-24",
          "2021-10-25",
          "2021-10-27",
          "2021-10-28",
          "2021-10-29",
          "2021-10-30",
          "2021-10-31",
          "2021-11-01",
          "2021-11-03",
          "2021-11-04",
          "2021-11-05",
          "2021-11-06",
          "2021-11-07",
          "2021-11-08",
          "2021-11-10",
          "2021-11-11",
          "2021-11-12",
          "2021-11-13",
          "2021-11-14",
          "2021-11-15",
          "2021-11-16",
          "2021-11-17",
          "2021-11-18",
          "2021-11-19",
          "2021-11-20",
          "2021-11-21",
          "2021-11-22",
          "2021-11-23",
          "2021-11-24",
          "2021-11-25",
          "2021-11-26",
          "2021-11-27",
          "2021-11-28",
          "2021-11-29",
          "2021-11-30",
          "2021-12-01",
          "2021-12-02",
          "2021-12-03",
          "2021-12-04",
          "2021-12-05",
          "2021-12-06",
          "2021-12-07",
          "2021-12-08",
          "2021-12-09",
          "2021-12-10",
          "2021-12-11",
          "2021-12-12",
          "2021-12-13",
          "2021-12-14",
          "2021-12-15",
          "2021-12-16",
          "2021-12-17",
          "2021-12-18",
          "2021-12-19",
          "2021-12-20",
          "2021-12-22",
          "2021-12-23",
          "2021-12-24",
          "2021-12-25",
          "2021-12-26",
          "2021-12-27",
          "2021-12-28",
          "2021-12-29",
          "2021-12-30",
          "2021-12-31"
         ],
         "y": [
          null,
          null,
          3892.306640625,
          4690.34033203125,
          2140.39990234375,
          30215.19921875,
          -53874.59765625,
          13459.798828125,
          6088.9990234375,
          10400.2890625,
          8197.1474609375,
          -42984.359375,
          29869.5234375,
          -11540.599609375,
          24186.8046875,
          -16916.33203125,
          -13120.3564453125,
          29760.5625,
          -31258.76171875,
          13375.6806640625,
          2053.56005859375,
          3923.35986328125,
          -9174.7998046875,
          7691.4794921875,
          27874.921875,
          -44003.68359375,
          -1744.59765625,
          12728.0400390625,
          5672.080078125,
          -8136.2001953125,
          4824.919921875,
          1422.240234375,
          -1706.119873046875,
          770.6796875,
          6289.6796875,
          -14544.4794921875,
          8117.7998046875,
          3566.31982421875,
          8994.8525390625,
          -7279.904296875,
          -22582.10546875,
          20972.640625,
          -14727.208984375,
          21643.8046875,
          -8228.0390625,
          -4435.5400390625,
          -1196.400390625,
          7985.33984375,
          -9676.8388671875,
          -1298.76123046875,
          42938.9609375,
          -55053.515625,
          538.435546875,
          29988.640625,
          -29463.23828125,
          17341.240234375,
          14122.7392578125,
          1240.587890625,
          -10078.234375,
          -28927.890625,
          16953.478515625,
          3688.23974609375,
          41139.3203125,
          -65241.86328125,
          16396.474609375,
          18815.78515625,
          7974.69140625,
          -45335.2421875,
          37945.1953125,
          -3786.8046875,
          -12485.951171875,
          2342.59521484375,
          6183.7607421875,
          3816.719482421875,
          5575.56103515625,
          9184.9609375,
          -29595.548828125,
          20901.63671875,
          -52125.83203125,
          49179.34375,
          12674.2001953125,
          -18547.291015625,
          -5401.140625,
          -18059.048828125,
          21264.48046875,
          16043.630859375,
          -26547.0625,
          19509.8203125,
          -27157.458984375,
          17803.390625,
          174.23974609375,
          3935.83544921875,
          8101.12744140625,
          -18901.3203125,
          -709.49365234375,
          3675.103759765625,
          9835.6875,
          -8434.478515625,
          2671.37939453125,
          21635.12109375,
          -17661.98046875,
          -23178.71875,
          29404.1484375,
          -29638.69921875,
          28338.826171875,
          1256.408203125,
          -28902.34375,
          47310.4375,
          -25868.12109375,
          -36406.7578125,
          33175.76171875,
          69853.6171875,
          -126381.140625,
          71766.8671875,
          -32002.021484375,
          15626.7177734375,
          2602.9609375,
          17178.65234375,
          -31408.98828125,
          8442.7744140625,
          5824.779296875,
          -5468.27978515625,
          13751.779296875,
          43896.6015625,
          -102554.6953125,
          55338.90625,
          22986.837890625,
          -80199.796875,
          47455.48828125,
          46536.37109375,
          -63340.71875,
          37001,
          -39332.671875,
          20314.2890625,
          7028.09375,
          -16109.5810546875,
          52387.37109375,
          -75492.140625,
          44779.8671875,
          6171.423828125,
          -43391.4609375,
          20404.021484375,
          33690.37890625,
          8731.8671875,
          -76921.7890625,
          62669.2890625,
          -36164.046875,
          -5773.05859375,
          35158,
          -41685.0390625,
          68273.765625,
          -66377.7421875,
          46011.15625,
          -30015.015625,
          -18438.19921875,
          38579.140625,
          -10729.5205078125,
          1104.7685546875,
          3501.3427734375,
          -573.0107421875,
          -25118.240234375,
          40866.8828125,
          -38288.0078125,
          30145.21875,
          -26676.548828125,
          15193.25390625,
          2659.58447265625,
          44562.48046875,
          -90447.609375,
          37314.234375,
          21759.869140625,
          -27695.109375,
          9568.6533203125,
          5012.2138671875,
          7125.0185546875,
          -9340.35546875,
          15148.59765625,
          -22019.36328125,
          8598.4609375,
          -33194.71875,
          29140.3984375,
          4736.35986328125,
          469.3193359375,
          -1103.35693359375,
          25976.8671875,
          -48013.80078125,
          4578.630859375,
          10847.5,
          15292.5322265625,
          -5894.0244140625,
          30094.595703125,
          -57467.84375,
          6908.701171875,
          5798.873046875,
          34868.15625,
          -35363.8984375,
          -2186.373046875,
          1221.7998046875,
          30043.18359375,
          -32403.794921875,
          30734.83984375,
          56633.02734375,
          -171787.4375,
          122874.25,
          -41620.796875,
          34582.515625,
          -32805.83984375,
          60462.90234375,
          -105467.40625,
          109119.21875,
          -78467.703125,
          18502.29296875,
          44652.1328125,
          -17750.375,
          -63945.25,
          58391.765625,
          -10674.564453125,
          28771.373046875,
          -35530.671875,
          -23822.48828125,
          11085.755859375,
          37456.81640625,
          1624.513671875,
          -41273.0390625,
          59847.3828125,
          -51600.140625,
          9739.49609375,
          -29197.63671875,
          59709.92578125,
          -41024.609375,
          3669.939453125,
          56797.33203125,
          -75146.609375,
          8891.12890625,
          13128.458984375,
          38217.99609375,
          -5106.865234375,
          -61205.19140625,
          52904.4609375,
          -13963.326171875,
          -35797.8671875,
          30698.685546875,
          12509.705078125,
          -23229.76953125,
          33616.5,
          -16088.607421875,
          -45202.77734375,
          31851.74609375,
          28159.76171875,
          -4770.9296875,
          -19037.81640625,
          -24799.458984375,
          80759.8671875,
          -73375.796875,
          4110.57421875,
          48497.4140625,
          -32631.74609375,
          -30430.693359375,
          40984.765625,
          -42050.33984375,
          41153.046875,
          18854.982421875,
          -18413.509765625,
          -33464.0859375,
          15724.171875,
          68657.0859375,
          -66289.375,
          -45112.96875,
          76167.234375,
          -25533.83203125,
          -28040.177734375,
          20908.16015625,
          -3297.6494140625,
          45088.02734375,
          -17607.5703125,
          -41015.1015625,
          68744.71875,
          -58511.640625,
          -12860.0234375,
          -3119.37109375,
          32302.83984375,
          90135.46875,
          -166316.1875,
          103725.78125,
          -39896.76953125,
          -22024.583984375,
          20360.134765625,
          29543.078125,
          19454.10546875,
          -85761.2734375,
          71174.453125,
          -46501.703125,
          20633.8984375,
          7447.0390625,
          8854.2431640625,
          -21233.703125,
          87889.71875,
          -155421.046875,
          63010.34375,
          17833.39453125,
          -21296.69921875,
          48342.8671875,
          -57392.12109375,
          76548.921875,
          -38367.72265625,
          -69797.96875,
          66905.171875,
          -4580.5400390625,
          -1247.2421875,
          -36892.0390625,
          66727.59375,
          -6810.68359375,
          -60274.03125,
          1651.1171875,
          59975.29296875,
          -32391.826171875,
          1058.572265625
         ]
        }
       ],
       "layout": {
        "hovermode": "x",
        "legend": {
         "font": {
          "color": "white",
          "family": "Arial",
          "size": 12
         }
        },
        "template": {
         "data": {
          "bar": [
           {
            "error_x": {
             "color": "#f2f5fa"
            },
            "error_y": {
             "color": "#f2f5fa"
            },
            "marker": {
             "line": {
              "color": "rgb(17,17,17)",
              "width": 0.5
             },
             "pattern": {
              "fillmode": "overlay",
              "size": 10,
              "solidity": 0.2
             }
            },
            "type": "bar"
           }
          ],
          "barpolar": [
           {
            "marker": {
             "line": {
              "color": "rgb(17,17,17)",
              "width": 0.5
             },
             "pattern": {
              "fillmode": "overlay",
              "size": 10,
              "solidity": 0.2
             }
            },
            "type": "barpolar"
           }
          ],
          "carpet": [
           {
            "aaxis": {
             "endlinecolor": "#A2B1C6",
             "gridcolor": "#506784",
             "linecolor": "#506784",
             "minorgridcolor": "#506784",
             "startlinecolor": "#A2B1C6"
            },
            "baxis": {
             "endlinecolor": "#A2B1C6",
             "gridcolor": "#506784",
             "linecolor": "#506784",
             "minorgridcolor": "#506784",
             "startlinecolor": "#A2B1C6"
            },
            "type": "carpet"
           }
          ],
          "choropleth": [
           {
            "colorbar": {
             "outlinewidth": 0,
             "ticks": ""
            },
            "type": "choropleth"
           }
          ],
          "contour": [
           {
            "colorbar": {
             "outlinewidth": 0,
             "ticks": ""
            },
            "colorscale": [
             [
              0,
              "#0d0887"
             ],
             [
              0.1111111111111111,
              "#46039f"
             ],
             [
              0.2222222222222222,
              "#7201a8"
             ],
             [
              0.3333333333333333,
              "#9c179e"
             ],
             [
              0.4444444444444444,
              "#bd3786"
             ],
             [
              0.5555555555555556,
              "#d8576b"
             ],
             [
              0.6666666666666666,
              "#ed7953"
             ],
             [
              0.7777777777777778,
              "#fb9f3a"
             ],
             [
              0.8888888888888888,
              "#fdca26"
             ],
             [
              1,
              "#f0f921"
             ]
            ],
            "type": "contour"
           }
          ],
          "contourcarpet": [
           {
            "colorbar": {
             "outlinewidth": 0,
             "ticks": ""
            },
            "type": "contourcarpet"
           }
          ],
          "heatmap": [
           {
            "colorbar": {
             "outlinewidth": 0,
             "ticks": ""
            },
            "colorscale": [
             [
              0,
              "#0d0887"
             ],
             [
              0.1111111111111111,
              "#46039f"
             ],
             [
              0.2222222222222222,
              "#7201a8"
             ],
             [
              0.3333333333333333,
              "#9c179e"
             ],
             [
              0.4444444444444444,
              "#bd3786"
             ],
             [
              0.5555555555555556,
              "#d8576b"
             ],
             [
              0.6666666666666666,
              "#ed7953"
             ],
             [
              0.7777777777777778,
              "#fb9f3a"
             ],
             [
              0.8888888888888888,
              "#fdca26"
             ],
             [
              1,
              "#f0f921"
             ]
            ],
            "type": "heatmap"
           }
          ],
          "heatmapgl": [
           {
            "colorbar": {
             "outlinewidth": 0,
             "ticks": ""
            },
            "colorscale": [
             [
              0,
              "#0d0887"
             ],
             [
              0.1111111111111111,
              "#46039f"
             ],
             [
              0.2222222222222222,
              "#7201a8"
             ],
             [
              0.3333333333333333,
              "#9c179e"
             ],
             [
              0.4444444444444444,
              "#bd3786"
             ],
             [
              0.5555555555555556,
              "#d8576b"
             ],
             [
              0.6666666666666666,
              "#ed7953"
             ],
             [
              0.7777777777777778,
              "#fb9f3a"
             ],
             [
              0.8888888888888888,
              "#fdca26"
             ],
             [
              1,
              "#f0f921"
             ]
            ],
            "type": "heatmapgl"
           }
          ],
          "histogram": [
           {
            "marker": {
             "pattern": {
              "fillmode": "overlay",
              "size": 10,
              "solidity": 0.2
             }
            },
            "type": "histogram"
           }
          ],
          "histogram2d": [
           {
            "colorbar": {
             "outlinewidth": 0,
             "ticks": ""
            },
            "colorscale": [
             [
              0,
              "#0d0887"
             ],
             [
              0.1111111111111111,
              "#46039f"
             ],
             [
              0.2222222222222222,
              "#7201a8"
             ],
             [
              0.3333333333333333,
              "#9c179e"
             ],
             [
              0.4444444444444444,
              "#bd3786"
             ],
             [
              0.5555555555555556,
              "#d8576b"
             ],
             [
              0.6666666666666666,
              "#ed7953"
             ],
             [
              0.7777777777777778,
              "#fb9f3a"
             ],
             [
              0.8888888888888888,
              "#fdca26"
             ],
             [
              1,
              "#f0f921"
             ]
            ],
            "type": "histogram2d"
           }
          ],
          "histogram2dcontour": [
           {
            "colorbar": {
             "outlinewidth": 0,
             "ticks": ""
            },
            "colorscale": [
             [
              0,
              "#0d0887"
             ],
             [
              0.1111111111111111,
              "#46039f"
             ],
             [
              0.2222222222222222,
              "#7201a8"
             ],
             [
              0.3333333333333333,
              "#9c179e"
             ],
             [
              0.4444444444444444,
              "#bd3786"
             ],
             [
              0.5555555555555556,
              "#d8576b"
             ],
             [
              0.6666666666666666,
              "#ed7953"
             ],
             [
              0.7777777777777778,
              "#fb9f3a"
             ],
             [
              0.8888888888888888,
              "#fdca26"
             ],
             [
              1,
              "#f0f921"
             ]
            ],
            "type": "histogram2dcontour"
           }
          ],
          "mesh3d": [
           {
            "colorbar": {
             "outlinewidth": 0,
             "ticks": ""
            },
            "type": "mesh3d"
           }
          ],
          "parcoords": [
           {
            "line": {
             "colorbar": {
              "outlinewidth": 0,
              "ticks": ""
             }
            },
            "type": "parcoords"
           }
          ],
          "pie": [
           {
            "automargin": true,
            "type": "pie"
           }
          ],
          "scatter": [
           {
            "marker": {
             "line": {
              "color": "#283442"
             }
            },
            "type": "scatter"
           }
          ],
          "scatter3d": [
           {
            "line": {
             "colorbar": {
              "outlinewidth": 0,
              "ticks": ""
             }
            },
            "marker": {
             "colorbar": {
              "outlinewidth": 0,
              "ticks": ""
             }
            },
            "type": "scatter3d"
           }
          ],
          "scattercarpet": [
           {
            "marker": {
             "colorbar": {
              "outlinewidth": 0,
              "ticks": ""
             }
            },
            "type": "scattercarpet"
           }
          ],
          "scattergeo": [
           {
            "marker": {
             "colorbar": {
              "outlinewidth": 0,
              "ticks": ""
             }
            },
            "type": "scattergeo"
           }
          ],
          "scattergl": [
           {
            "marker": {
             "line": {
              "color": "#283442"
             }
            },
            "type": "scattergl"
           }
          ],
          "scattermapbox": [
           {
            "marker": {
             "colorbar": {
              "outlinewidth": 0,
              "ticks": ""
             }
            },
            "type": "scattermapbox"
           }
          ],
          "scatterpolar": [
           {
            "marker": {
             "colorbar": {
              "outlinewidth": 0,
              "ticks": ""
             }
            },
            "type": "scatterpolar"
           }
          ],
          "scatterpolargl": [
           {
            "marker": {
             "colorbar": {
              "outlinewidth": 0,
              "ticks": ""
             }
            },
            "type": "scatterpolargl"
           }
          ],
          "scatterternary": [
           {
            "marker": {
             "colorbar": {
              "outlinewidth": 0,
              "ticks": ""
             }
            },
            "type": "scatterternary"
           }
          ],
          "surface": [
           {
            "colorbar": {
             "outlinewidth": 0,
             "ticks": ""
            },
            "colorscale": [
             [
              0,
              "#0d0887"
             ],
             [
              0.1111111111111111,
              "#46039f"
             ],
             [
              0.2222222222222222,
              "#7201a8"
             ],
             [
              0.3333333333333333,
              "#9c179e"
             ],
             [
              0.4444444444444444,
              "#bd3786"
             ],
             [
              0.5555555555555556,
              "#d8576b"
             ],
             [
              0.6666666666666666,
              "#ed7953"
             ],
             [
              0.7777777777777778,
              "#fb9f3a"
             ],
             [
              0.8888888888888888,
              "#fdca26"
             ],
             [
              1,
              "#f0f921"
             ]
            ],
            "type": "surface"
           }
          ],
          "table": [
           {
            "cells": {
             "fill": {
              "color": "#506784"
             },
             "line": {
              "color": "rgb(17,17,17)"
             }
            },
            "header": {
             "fill": {
              "color": "#2a3f5f"
             },
             "line": {
              "color": "rgb(17,17,17)"
             }
            },
            "type": "table"
           }
          ]
         },
         "layout": {
          "annotationdefaults": {
           "arrowcolor": "#f2f5fa",
           "arrowhead": 0,
           "arrowwidth": 1
          },
          "autotypenumbers": "strict",
          "coloraxis": {
           "colorbar": {
            "outlinewidth": 0,
            "ticks": ""
           }
          },
          "colorscale": {
           "diverging": [
            [
             0,
             "#8e0152"
            ],
            [
             0.1,
             "#c51b7d"
            ],
            [
             0.2,
             "#de77ae"
            ],
            [
             0.3,
             "#f1b6da"
            ],
            [
             0.4,
             "#fde0ef"
            ],
            [
             0.5,
             "#f7f7f7"
            ],
            [
             0.6,
             "#e6f5d0"
            ],
            [
             0.7,
             "#b8e186"
            ],
            [
             0.8,
             "#7fbc41"
            ],
            [
             0.9,
             "#4d9221"
            ],
            [
             1,
             "#276419"
            ]
           ],
           "sequential": [
            [
             0,
             "#0d0887"
            ],
            [
             0.1111111111111111,
             "#46039f"
            ],
            [
             0.2222222222222222,
             "#7201a8"
            ],
            [
             0.3333333333333333,
             "#9c179e"
            ],
            [
             0.4444444444444444,
             "#bd3786"
            ],
            [
             0.5555555555555556,
             "#d8576b"
            ],
            [
             0.6666666666666666,
             "#ed7953"
            ],
            [
             0.7777777777777778,
             "#fb9f3a"
            ],
            [
             0.8888888888888888,
             "#fdca26"
            ],
            [
             1,
             "#f0f921"
            ]
           ],
           "sequentialminus": [
            [
             0,
             "#0d0887"
            ],
            [
             0.1111111111111111,
             "#46039f"
            ],
            [
             0.2222222222222222,
             "#7201a8"
            ],
            [
             0.3333333333333333,
             "#9c179e"
            ],
            [
             0.4444444444444444,
             "#bd3786"
            ],
            [
             0.5555555555555556,
             "#d8576b"
            ],
            [
             0.6666666666666666,
             "#ed7953"
            ],
            [
             0.7777777777777778,
             "#fb9f3a"
            ],
            [
             0.8888888888888888,
             "#fdca26"
            ],
            [
             1,
             "#f0f921"
            ]
           ]
          },
          "colorway": [
           "#636efa",
           "#EF553B",
           "#00cc96",
           "#ab63fa",
           "#FFA15A",
           "#19d3f3",
           "#FF6692",
           "#B6E880",
           "#FF97FF",
           "#FECB52"
          ],
          "font": {
           "color": "#f2f5fa"
          },
          "geo": {
           "bgcolor": "rgb(17,17,17)",
           "lakecolor": "rgb(17,17,17)",
           "landcolor": "rgb(17,17,17)",
           "showlakes": true,
           "showland": true,
           "subunitcolor": "#506784"
          },
          "hoverlabel": {
           "align": "left"
          },
          "hovermode": "closest",
          "mapbox": {
           "style": "dark"
          },
          "paper_bgcolor": "rgb(17,17,17)",
          "plot_bgcolor": "rgb(17,17,17)",
          "polar": {
           "angularaxis": {
            "gridcolor": "#506784",
            "linecolor": "#506784",
            "ticks": ""
           },
           "bgcolor": "rgb(17,17,17)",
           "radialaxis": {
            "gridcolor": "#506784",
            "linecolor": "#506784",
            "ticks": ""
           }
          },
          "scene": {
           "xaxis": {
            "backgroundcolor": "rgb(17,17,17)",
            "gridcolor": "#506784",
            "gridwidth": 2,
            "linecolor": "#506784",
            "showbackground": true,
            "ticks": "",
            "zerolinecolor": "#C8D4E3"
           },
           "yaxis": {
            "backgroundcolor": "rgb(17,17,17)",
            "gridcolor": "#506784",
            "gridwidth": 2,
            "linecolor": "#506784",
            "showbackground": true,
            "ticks": "",
            "zerolinecolor": "#C8D4E3"
           },
           "zaxis": {
            "backgroundcolor": "rgb(17,17,17)",
            "gridcolor": "#506784",
            "gridwidth": 2,
            "linecolor": "#506784",
            "showbackground": true,
            "ticks": "",
            "zerolinecolor": "#C8D4E3"
           }
          },
          "shapedefaults": {
           "line": {
            "color": "#f2f5fa"
           }
          },
          "sliderdefaults": {
           "bgcolor": "#C8D4E3",
           "bordercolor": "rgb(17,17,17)",
           "borderwidth": 1,
           "tickwidth": 0
          },
          "ternary": {
           "aaxis": {
            "gridcolor": "#506784",
            "linecolor": "#506784",
            "ticks": ""
           },
           "baxis": {
            "gridcolor": "#506784",
            "linecolor": "#506784",
            "ticks": ""
           },
           "bgcolor": "rgb(17,17,17)",
           "caxis": {
            "gridcolor": "#506784",
            "linecolor": "#506784",
            "ticks": ""
           }
          },
          "title": {
           "x": 0.05
          },
          "updatemenudefaults": {
           "bgcolor": "#506784",
           "borderwidth": 0
          },
          "xaxis": {
           "automargin": true,
           "gridcolor": "#283442",
           "linecolor": "#506784",
           "ticks": "",
           "title": {
            "standoff": 15
           },
           "zerolinecolor": "#283442",
           "zerolinewidth": 2
          },
          "yaxis": {
           "automargin": true,
           "gridcolor": "#283442",
           "linecolor": "#506784",
           "ticks": "",
           "title": {
            "standoff": 15
           },
           "zerolinecolor": "#283442",
           "zerolinewidth": 2
          }
         }
        },
        "title": {
         "text": "Análise das vendas das Lojas 2021"
        },
        "xaxis": {
         "showgrid": false,
         "showline": true,
         "title": {
          "text": "data_do_pedido"
         }
        },
        "yaxis": {
         "showgrid": false,
         "showline": true,
         "title": {
          "text": "Valores"
         }
        }
       }
      }
     },
     "metadata": {},
     "output_type": "display_data"
    }
   ],
   "source": [
    "\n",
    "\n",
    "def plot_comparacao(x, y1, y2, y3, dataset, titulo):\n",
    "    fig1 = go.Figure()\n",
    "    fig2 = go.Figure()\n",
    "    fig3 = go.Figure()\n",
    "\n",
    "    fig1.add_trace(go.Scatter(x=dataset[x], y=dataset[y1], mode='lines', name=y1))\n",
    "    fig1.update_layout(\n",
    "        title=titulo,\n",
    "        xaxis_title=x,\n",
    "        yaxis_title=\"Valores\",\n",
    "        xaxis=dict(showline=True, showgrid=False),\n",
    "        yaxis=dict(showline=True, showgrid=False),\n",
    "        template=\"plotly_dark\", \n",
    "        legend=dict(font=dict(family=\"Arial\", size=12, color=\"white\")),\n",
    "        hovermode=\"x\",  \n",
    "    )\n",
    "\n",
    "   \n",
    "    fig2.add_trace(go.Scatter(x=dataset[x], y=dataset[y2], mode='lines', name=y2))\n",
    "    fig2.update_layout(\n",
    "        title=titulo,\n",
    "        xaxis_title=x,\n",
    "        yaxis_title=\"Valores\",\n",
    "        xaxis=dict(showline=True, showgrid=False),\n",
    "        yaxis=dict(showline=True, showgrid=False),\n",
    "        template=\"plotly_dark\",\n",
    "        legend=dict(font=dict(family=\"Arial\", size=12, color=\"white\")),\n",
    "        hovermode=\"x\",\n",
    "    )\n",
    "\n",
    "    \n",
    "    fig3.add_trace(go.Scatter(x=dataset[x], y=dataset[y3], mode='lines', name=y3))\n",
    "    fig3.update_layout(\n",
    "        title=titulo,\n",
    "        xaxis_title=x,\n",
    "        yaxis_title=\"Valores\",\n",
    "        xaxis=dict(showline=True, showgrid=False),\n",
    "        yaxis=dict(showline=True, showgrid=False),\n",
    "        template=\"plotly_dark\",\n",
    "        legend=dict(font=dict(family=\"Arial\", size=12, color=\"white\")),\n",
    "        hovermode=\"x\",\n",
    "    )\n",
    "\n",
    "    fig1.show()\n",
    "    fig2.show()\n",
    "    fig3.show()\n",
    "\n",
    "\n",
    "plot_comparacao('data_do_pedido', 'vendas', 'aumento', 'aceleracao',\n",
    "                vendas, 'Análise das vendas das Lojas 2021')"
   ]
  },
  {
   "cell_type": "code",
   "execution_count": 25,
   "metadata": {},
   "outputs": [],
   "source": [
    "scaler = MinMaxScaler()\n",
    "vendas['vendas'] = scaler.fit_transform(vendas['vendas'].values.reshape(-1, 1))"
   ]
  },
  {
   "cell_type": "code",
   "execution_count": 27,
   "metadata": {},
   "outputs": [],
   "source": [
    "def create_sequences(data, seq_length):\n",
    "    sequences, labels = [], []\n",
    "    for i in range(len(data) - seq_length):\n",
    "        seq = data[i:i+seq_length]\n",
    "        label = data[i+seq_length]\n",
    "        sequences.append(seq)\n",
    "        labels.append(label)\n",
    "    return np.array(sequences), np.array(labels)\n",
    "\n",
    "\n",
    "seq_length = 10 \n",
    "epochs = 50\n",
    "\n",
    "\n",
    "train_sequences, train_labels = create_sequences(vendas['vendas'].values, seq_length)"
   ]
  },
  {
   "cell_type": "code",
   "execution_count": null,
   "metadata": {},
   "outputs": [],
   "source": [
    "\"\"\"\n",
    "LSTM \n",
    "\"\"\""
   ]
  },
  {
   "cell_type": "code",
   "execution_count": 29,
   "metadata": {},
   "outputs": [
    {
     "name": "stdout",
     "output_type": "stream",
     "text": [
      "Epoch 1/50\n",
      "5/5 [==============================] - 3s 11ms/step - loss: 0.0865\n",
      "Epoch 2/50\n",
      "5/5 [==============================] - 0s 11ms/step - loss: 0.0745\n",
      "Epoch 3/50\n",
      "5/5 [==============================] - 0s 10ms/step - loss: 0.0641\n",
      "Epoch 4/50\n",
      "5/5 [==============================] - 0s 10ms/step - loss: 0.0527\n",
      "Epoch 5/50\n",
      "5/5 [==============================] - 0s 13ms/step - loss: 0.0419\n",
      "Epoch 6/50\n",
      "5/5 [==============================] - 0s 11ms/step - loss: 0.0354\n",
      "Epoch 7/50\n",
      "5/5 [==============================] - 0s 11ms/step - loss: 0.0367\n",
      "Epoch 8/50\n",
      "5/5 [==============================] - 0s 10ms/step - loss: 0.0354\n",
      "Epoch 9/50\n",
      "5/5 [==============================] - 0s 10ms/step - loss: 0.0345\n",
      "Epoch 10/50\n",
      "5/5 [==============================] - 0s 10ms/step - loss: 0.0350\n",
      "Epoch 11/50\n",
      "5/5 [==============================] - 0s 10ms/step - loss: 0.0347\n",
      "Epoch 12/50\n",
      "5/5 [==============================] - 0s 12ms/step - loss: 0.0341\n",
      "Epoch 13/50\n",
      "5/5 [==============================] - 0s 10ms/step - loss: 0.0340\n",
      "Epoch 14/50\n",
      "5/5 [==============================] - 0s 12ms/step - loss: 0.0340\n",
      "Epoch 15/50\n",
      "5/5 [==============================] - 0s 10ms/step - loss: 0.0335\n",
      "Epoch 16/50\n",
      "5/5 [==============================] - 0s 11ms/step - loss: 0.0335\n",
      "Epoch 17/50\n",
      "5/5 [==============================] - 0s 10ms/step - loss: 0.0333\n",
      "Epoch 18/50\n",
      "5/5 [==============================] - 0s 11ms/step - loss: 0.0332\n",
      "Epoch 19/50\n",
      "5/5 [==============================] - 0s 10ms/step - loss: 0.0330\n",
      "Epoch 20/50\n",
      "5/5 [==============================] - 0s 10ms/step - loss: 0.0329\n",
      "Epoch 21/50\n",
      "5/5 [==============================] - 0s 10ms/step - loss: 0.0329\n",
      "Epoch 22/50\n",
      "5/5 [==============================] - 0s 10ms/step - loss: 0.0330\n",
      "Epoch 23/50\n",
      "5/5 [==============================] - 0s 9ms/step - loss: 0.0329\n",
      "Epoch 24/50\n",
      "5/5 [==============================] - 0s 9ms/step - loss: 0.0328\n",
      "Epoch 25/50\n",
      "5/5 [==============================] - 0s 9ms/step - loss: 0.0328\n",
      "Epoch 26/50\n",
      "5/5 [==============================] - 0s 10ms/step - loss: 0.0328\n",
      "Epoch 27/50\n",
      "5/5 [==============================] - 0s 9ms/step - loss: 0.0330\n",
      "Epoch 28/50\n",
      "5/5 [==============================] - 0s 10ms/step - loss: 0.0328\n",
      "Epoch 29/50\n",
      "5/5 [==============================] - 0s 9ms/step - loss: 0.0328\n",
      "Epoch 30/50\n",
      "5/5 [==============================] - 0s 9ms/step - loss: 0.0329\n",
      "Epoch 31/50\n",
      "5/5 [==============================] - 0s 9ms/step - loss: 0.0334\n",
      "Epoch 32/50\n",
      "5/5 [==============================] - 0s 9ms/step - loss: 0.0328\n",
      "Epoch 33/50\n",
      "5/5 [==============================] - 0s 12ms/step - loss: 0.0329\n",
      "Epoch 34/50\n",
      "5/5 [==============================] - 0s 14ms/step - loss: 0.0326\n",
      "Epoch 35/50\n",
      "5/5 [==============================] - 0s 10ms/step - loss: 0.0327\n",
      "Epoch 36/50\n",
      "5/5 [==============================] - 0s 10ms/step - loss: 0.0326\n",
      "Epoch 37/50\n",
      "5/5 [==============================] - 0s 10ms/step - loss: 0.0326\n",
      "Epoch 38/50\n",
      "5/5 [==============================] - 0s 10ms/step - loss: 0.0326\n",
      "Epoch 39/50\n",
      "5/5 [==============================] - 0s 10ms/step - loss: 0.0325\n",
      "Epoch 40/50\n",
      "5/5 [==============================] - 0s 10ms/step - loss: 0.0326\n",
      "Epoch 41/50\n",
      "5/5 [==============================] - 0s 10ms/step - loss: 0.0329\n",
      "Epoch 42/50\n",
      "5/5 [==============================] - 0s 10ms/step - loss: 0.0327\n",
      "Epoch 43/50\n",
      "5/5 [==============================] - 0s 10ms/step - loss: 0.0326\n",
      "Epoch 44/50\n",
      "5/5 [==============================] - 0s 10ms/step - loss: 0.0326\n",
      "Epoch 45/50\n",
      "5/5 [==============================] - 0s 10ms/step - loss: 0.0326\n",
      "Epoch 46/50\n",
      "5/5 [==============================] - 0s 9ms/step - loss: 0.0325\n",
      "Epoch 47/50\n",
      "5/5 [==============================] - 0s 9ms/step - loss: 0.0327\n",
      "Epoch 48/50\n",
      "5/5 [==============================] - 0s 9ms/step - loss: 0.0324\n",
      "Epoch 49/50\n",
      "5/5 [==============================] - 0s 10ms/step - loss: 0.0324\n",
      "Epoch 50/50\n",
      "5/5 [==============================] - 0s 10ms/step - loss: 0.0325\n"
     ]
    },
    {
     "data": {
      "text/plain": [
       "<keras.src.callbacks.History at 0x1814bce51c0>"
      ]
     },
     "execution_count": 29,
     "metadata": {},
     "output_type": "execute_result"
    }
   ],
   "source": [
    "model = Sequential()\n",
    "model.add(LSTM(64, activation='relu', return_sequences=True, input_shape=(seq_length, 1))) \n",
    "model.add(LSTM(32, activation='relu', return_sequences=True))\n",
    "model.add(LSTM(16, activation='relu')) \n",
    "model.add(Dense(1)) \n",
    "\n",
    "model.compile(optimizer='adam', loss='mse')\n",
    "model.fit(train_sequences, train_labels, epochs=epochs, batch_size=64)"
   ]
  },
  {
   "cell_type": "code",
   "execution_count": null,
   "metadata": {},
   "outputs": [],
   "source": [
    "\"\"\"previsões (4 anos à frente)\"\"\"\n",
    "n_previsoes = 4 * 365 \n",
    "ultimas_sequencias = train_sequences[-1].reshape(1, seq_length, 1)\n",
    "previsoes = []\n",
    "datas_previsao = []\n",
    "\n",
    "for _ in range(n_previsoes):\n",
    "    previsao = model.predict(ultimas_sequencias)\n",
    "    previsoes.append(scaler.inverse_transform(previsao)[0][0])\n",
    "\n",
    "    \n",
    "    ultimas_sequencias = np.roll(ultimas_sequencias, shift=-1, axis=1)\n",
    "    ultimas_sequencias[0, -1, 0] = previsao\n",
    "\n",
    "    \"\"\"Gere a data para a previsão (assumindo que é diária)\"\"\"\n",
    "    data_atual = pd.to_datetime(vendas.index[-1])\n",
    "    data_previsao = data_atual + pd.DateOffset(days=1)\n",
    "    datas_previsao.append(data_previsao)\n",
    "\n",
    "\n",
    "df_previsoes = pd.DataFrame({'Data': datas_previsao, 'Valor Real': previsoes[:-1], 'Previsão': previsoes[1:]})\n",
    "\n",
    "\n",
    "print(df_previsoes)"
   ]
  },
  {
   "cell_type": "code",
   "execution_count": null,
   "metadata": {},
   "outputs": [],
   "source": [
    "plt.figure(figsize=(12, 6))\n",
    "plt.plot(vendas['data'], vendas['vendas'], label='Vendas reais', linestyle='-', marker='o')\n",
    "plt.plot(df_previsoes['Data'], df_previsoes['Valor Real'], label='Valor Real', linestyle='--')\n",
    "plt.plot(df_previsoes['Data'], df_previsoes['Previsão'], label='Previsão', linestyle='--')\n",
    "plt.xlabel('Data')\n",
    "plt.ylabel('Vendas')\n",
    "plt.legend()\n",
    "plt.show()\n"
   ]
  }
 ],
 "metadata": {
  "kernelspec": {
   "display_name": "Python 3",
   "language": "python",
   "name": "python3"
  },
  "language_info": {
   "codemirror_mode": {
    "name": "ipython",
    "version": 3
   },
   "file_extension": ".py",
   "mimetype": "text/x-python",
   "name": "python",
   "nbconvert_exporter": "python",
   "pygments_lexer": "ipython3",
   "version": "3.8.0"
  }
 },
 "nbformat": 4,
 "nbformat_minor": 2
}
